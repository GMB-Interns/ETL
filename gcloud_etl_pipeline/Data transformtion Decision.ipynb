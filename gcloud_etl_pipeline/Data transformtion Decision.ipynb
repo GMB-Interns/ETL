{
 "cells": [
  {
   "cell_type": "code",
   "execution_count": 1,
   "id": "971278b0",
   "metadata": {},
   "outputs": [
    {
     "name": "stdout",
     "output_type": "stream",
     "text": [
      "Requirement already satisfied: mysql-connector-python in ./anaconda3/lib/python3.10/site-packages (8.1.0)\n",
      "Requirement already satisfied: protobuf<=4.21.12,>=4.21.1 in ./anaconda3/lib/python3.10/site-packages (from mysql-connector-python) (4.21.12)\n",
      "Requirement already satisfied: google-cloud-storage in ./anaconda3/lib/python3.10/site-packages (2.10.0)\n",
      "Requirement already satisfied: requests<3.0.0dev,>=2.18.0 in ./anaconda3/lib/python3.10/site-packages (from google-cloud-storage) (2.28.1)\n",
      "Requirement already satisfied: google-auth<3.0dev,>=1.25.0 in ./anaconda3/lib/python3.10/site-packages (from google-cloud-storage) (2.22.0)\n",
      "Requirement already satisfied: google-api-core!=2.0.*,!=2.1.*,!=2.2.*,!=2.3.0,<3.0.0dev,>=1.31.5 in ./anaconda3/lib/python3.10/site-packages (from google-cloud-storage) (2.11.1)\n",
      "Requirement already satisfied: google-resumable-media>=2.3.2 in ./anaconda3/lib/python3.10/site-packages (from google-cloud-storage) (2.5.0)\n",
      "Requirement already satisfied: google-cloud-core<3.0dev,>=2.3.0 in ./anaconda3/lib/python3.10/site-packages (from google-cloud-storage) (2.3.3)\n",
      "Requirement already satisfied: protobuf!=3.20.0,!=3.20.1,!=4.21.0,!=4.21.1,!=4.21.2,!=4.21.3,!=4.21.4,!=4.21.5,<5.0.0.dev0,>=3.19.5 in ./anaconda3/lib/python3.10/site-packages (from google-api-core!=2.0.*,!=2.1.*,!=2.2.*,!=2.3.0,<3.0.0dev,>=1.31.5->google-cloud-storage) (4.21.12)\n",
      "Requirement already satisfied: googleapis-common-protos<2.0.dev0,>=1.56.2 in ./anaconda3/lib/python3.10/site-packages (from google-api-core!=2.0.*,!=2.1.*,!=2.2.*,!=2.3.0,<3.0.0dev,>=1.31.5->google-cloud-storage) (1.59.1)\n",
      "Requirement already satisfied: cachetools<6.0,>=2.0.0 in ./anaconda3/lib/python3.10/site-packages (from google-auth<3.0dev,>=1.25.0->google-cloud-storage) (5.3.1)\n",
      "Requirement already satisfied: urllib3<2.0 in ./anaconda3/lib/python3.10/site-packages (from google-auth<3.0dev,>=1.25.0->google-cloud-storage) (1.26.14)\n",
      "Requirement already satisfied: six>=1.9.0 in ./anaconda3/lib/python3.10/site-packages (from google-auth<3.0dev,>=1.25.0->google-cloud-storage) (1.16.0)\n",
      "Requirement already satisfied: rsa<5,>=3.1.4 in ./anaconda3/lib/python3.10/site-packages (from google-auth<3.0dev,>=1.25.0->google-cloud-storage) (4.9)\n",
      "Requirement already satisfied: pyasn1-modules>=0.2.1 in ./anaconda3/lib/python3.10/site-packages (from google-auth<3.0dev,>=1.25.0->google-cloud-storage) (0.2.8)\n",
      "Requirement already satisfied: google-crc32c<2.0dev,>=1.0 in ./anaconda3/lib/python3.10/site-packages (from google-resumable-media>=2.3.2->google-cloud-storage) (1.5.0)\n",
      "Requirement already satisfied: idna<4,>=2.5 in ./anaconda3/lib/python3.10/site-packages (from requests<3.0.0dev,>=2.18.0->google-cloud-storage) (3.4)\n",
      "Requirement already satisfied: charset-normalizer<3,>=2 in ./anaconda3/lib/python3.10/site-packages (from requests<3.0.0dev,>=2.18.0->google-cloud-storage) (2.0.4)\n",
      "Requirement already satisfied: certifi>=2017.4.17 in ./anaconda3/lib/python3.10/site-packages (from requests<3.0.0dev,>=2.18.0->google-cloud-storage) (2023.5.7)\n",
      "Requirement already satisfied: pyasn1<0.5.0,>=0.4.6 in ./anaconda3/lib/python3.10/site-packages (from pyasn1-modules>=0.2.1->google-auth<3.0dev,>=1.25.0->google-cloud-storage) (0.4.8)\n"
     ]
    }
   ],
   "source": [
    "!pip install mysql-connector-python\n",
    "! pip install google-cloud-storage"
   ]
  },
  {
   "cell_type": "code",
   "execution_count": 2,
   "id": "d706f9d2",
   "metadata": {},
   "outputs": [],
   "source": [
    "import os\n",
    "import time\n",
    "import subprocess\n",
    "from google.cloud import storage\n",
    "import getpass"
   ]
  },
  {
   "cell_type": "code",
   "execution_count": 3,
   "id": "0a2239f3",
   "metadata": {},
   "outputs": [
    {
     "name": "stdout",
     "output_type": "stream",
     "text": [
      "Enter username:········\n",
      "Enter password:········\n"
     ]
    }
   ],
   "source": [
    "# Set your MySQL database configurations\n",
    "\n",
    "username = getpass.getpass('Enter username:')\n",
    "password = getpass.getpass('Enter password:')\n",
    "public_ip_address = '35.239.201.185'\n",
    "db_name = 'gmb'\n",
    "test_db_name = 'gmb_test'\n",
    "\n",
    "# Set your GCS bucket configurations\n",
    "gcs_bucket_name = 'gmb-database-backup'\n",
    "gcs_backup_blob_name = 'backup.sql'\n",
    "# Path to store the temporary backup file\n",
    "TEMP_BACKUP_PATH = '/tmp/backup.sql'"
   ]
  },
  {
   "cell_type": "code",
   "execution_count": 35,
   "id": "16e79218",
   "metadata": {
    "scrolled": true
   },
   "outputs": [
    {
     "name": "stdout",
     "output_type": "stream",
     "text": [
      "Requirement already satisfied: Django in ./anaconda3/lib/python3.10/site-packages (4.2.4)\r\n",
      "Requirement already satisfied: sqlparse>=0.3.1 in ./anaconda3/lib/python3.10/site-packages (from Django) (0.4.4)\r\n",
      "Requirement already satisfied: asgiref<4,>=3.6.0 in ./anaconda3/lib/python3.10/site-packages (from Django) (3.7.2)\r\n",
      "Requirement already satisfied: typing-extensions>=4 in ./anaconda3/lib/python3.10/site-packages (from asgiref<4,>=3.6.0->Django) (4.4.0)\r\n"
     ]
    }
   ],
   "source": [
    "!pip install Django"
   ]
  },
  {
   "cell_type": "code",
   "execution_count": 40,
   "id": "c4dc3a72",
   "metadata": {},
   "outputs": [
    {
     "name": "stdout",
     "output_type": "stream",
     "text": [
      "No data restored.\n",
      "Operations to perform:\n",
      "  Apply all migrations: admin, auth, contenttypes, sessions\n",
      "Running migrations:\n",
      "  No migrations to apply.\n",
      "Running migrations and creating new tables for testing...\n",
      "No changes detected\n",
      "Operations to perform:\n",
      "  Apply all migrations: admin, auth, contenttypes, sessions\n",
      "Running migrations:\n",
      "  No migrations to apply.\n",
      "Script completed.\n"
     ]
    }
   ],
   "source": [
    "%%bash\n",
    "#!/bin/bash\n",
    "\n",
    "# Prompt user to restore data from prod to test\n",
    "read -p \"Do you want to restore data from production to test? (yes/no): \" restore_choice\n",
    "\n",
    "if [ \"$restore_choice\" == \"yes\" ]; then\n",
    "    # Dump production data and restore it to the test database\n",
    "    mysqldump -h \"$public_ip_address\" -u \"$username\" -p\"$password\" \"$db_name\" > \"$TEMP_BACKUP_PATH\"\n",
    "    mysql -h \"$public_ip_address\" -u \"$username\" -p\"$password\" \"$test_db_name\" < \"$TEMP_BACKUP_PATH\"\n",
    "    echo \"Data restored from production to test database.\"\n",
    "else\n",
    "    echo \"No data restored.\"\n",
    "fi\n",
    "\n",
    "# Run migrations and create new tables for testing\n",
    "cd /Users/jennyli/my_django_project\n",
    "python manage.py migrate\n",
    "\n",
    "echo \"Running migrations and creating new tables for testing...\"\n",
    "python manage.py makemigrations\n",
    "python manage.py migrate\n",
    "\n",
    "echo \"Script completed.\"\n",
    "\n"
   ]
  },
  {
   "cell_type": "code",
   "execution_count": 38,
   "id": "19653039",
   "metadata": {},
   "outputs": [
    {
     "name": "stdout",
     "output_type": "stream",
     "text": [
      "No data anonymization requested.\n"
     ]
    }
   ],
   "source": [
    "%%bash\n",
    "\n",
    "# Prompt the user if they want to anonymize data\n",
    "read -p \"Do you want to anonymize data? (yes/no): \" anonymize_choice\n",
    "\n",
    "if [ \"$anonymize_choice\" == \"yes\" ]; then\n",
    "    # Prompt the user for table and columns to anonymize\n",
    "    read -p \"Enter the table name to anonymize: \" table_name\n",
    "    read -p \"Enter the columns to anonymize (comma-separated): \" column_names\n",
    "    \n",
    "    # Convert comma-separated column names to an array\n",
    "    IFS=',' read -ra columns <<< \"$column_names\"\n",
    "    \n",
    "    # Anonymize the specified table and columns\n",
    "    echo \"Anonymizing data for table $table_name, columns: ${columns[@]} ...\"\n",
    "    python anonymize.py --table \"$table_name\" --columns \"${columns[@]}\"\n",
    "    \n",
    "    echo \"Data anonymization complete.\"\n",
    "else\n",
    "    echo \"No data anonymization requested.\"\n",
    "fi\n"
   ]
  },
  {
   "cell_type": "code",
   "execution_count": null,
   "id": "17a18aa9",
   "metadata": {},
   "outputs": [],
   "source": []
  }
 ],
 "metadata": {
  "kernelspec": {
   "display_name": "Python 3 (ipykernel)",
   "language": "python",
   "name": "python3"
  },
  "language_info": {
   "codemirror_mode": {
    "name": "ipython",
    "version": 3
   },
   "file_extension": ".py",
   "mimetype": "text/x-python",
   "name": "python",
   "nbconvert_exporter": "python",
   "pygments_lexer": "ipython3",
   "version": "3.10.9"
  }
 },
 "nbformat": 4,
 "nbformat_minor": 5
}
