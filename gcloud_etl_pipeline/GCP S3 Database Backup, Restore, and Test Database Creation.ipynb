{
 "cells": [
  {
   "cell_type": "code",
   "execution_count": 4,
   "id": "dc5d7cec",
   "metadata": {},
   "outputs": [
    {
     "name": "stdout",
     "output_type": "stream",
     "text": [
      "Requirement already satisfied: mysql-connector-python in ./anaconda3/lib/python3.10/site-packages (8.1.0)\r\n",
      "Requirement already satisfied: protobuf<=4.21.12,>=4.21.1 in ./anaconda3/lib/python3.10/site-packages (from mysql-connector-python) (4.21.12)\r\n"
     ]
    }
   ],
   "source": [
    "!pip install mysql-connector-python"
   ]
  },
  {
   "cell_type": "code",
   "execution_count": 5,
   "id": "4f41ca7a",
   "metadata": {},
   "outputs": [
    {
     "name": "stdout",
     "output_type": "stream",
     "text": [
      "Requirement already satisfied: google-cloud-storage in ./anaconda3/lib/python3.10/site-packages (2.10.0)\n",
      "Requirement already satisfied: google-cloud-core<3.0dev,>=2.3.0 in ./anaconda3/lib/python3.10/site-packages (from google-cloud-storage) (2.3.3)\n",
      "Requirement already satisfied: google-resumable-media>=2.3.2 in ./anaconda3/lib/python3.10/site-packages (from google-cloud-storage) (2.5.0)\n",
      "Requirement already satisfied: google-api-core!=2.0.*,!=2.1.*,!=2.2.*,!=2.3.0,<3.0.0dev,>=1.31.5 in ./anaconda3/lib/python3.10/site-packages (from google-cloud-storage) (2.11.1)\n",
      "Requirement already satisfied: google-auth<3.0dev,>=1.25.0 in ./anaconda3/lib/python3.10/site-packages (from google-cloud-storage) (2.22.0)\n",
      "Requirement already satisfied: requests<3.0.0dev,>=2.18.0 in ./anaconda3/lib/python3.10/site-packages (from google-cloud-storage) (2.28.1)\n",
      "Requirement already satisfied: googleapis-common-protos<2.0.dev0,>=1.56.2 in ./anaconda3/lib/python3.10/site-packages (from google-api-core!=2.0.*,!=2.1.*,!=2.2.*,!=2.3.0,<3.0.0dev,>=1.31.5->google-cloud-storage) (1.59.1)\n",
      "Requirement already satisfied: protobuf!=3.20.0,!=3.20.1,!=4.21.0,!=4.21.1,!=4.21.2,!=4.21.3,!=4.21.4,!=4.21.5,<5.0.0.dev0,>=3.19.5 in ./anaconda3/lib/python3.10/site-packages (from google-api-core!=2.0.*,!=2.1.*,!=2.2.*,!=2.3.0,<3.0.0dev,>=1.31.5->google-cloud-storage) (4.21.12)\n",
      "Requirement already satisfied: urllib3<2.0 in ./anaconda3/lib/python3.10/site-packages (from google-auth<3.0dev,>=1.25.0->google-cloud-storage) (1.26.14)\n",
      "Requirement already satisfied: pyasn1-modules>=0.2.1 in ./anaconda3/lib/python3.10/site-packages (from google-auth<3.0dev,>=1.25.0->google-cloud-storage) (0.2.8)\n",
      "Requirement already satisfied: rsa<5,>=3.1.4 in ./anaconda3/lib/python3.10/site-packages (from google-auth<3.0dev,>=1.25.0->google-cloud-storage) (4.9)\n",
      "Requirement already satisfied: cachetools<6.0,>=2.0.0 in ./anaconda3/lib/python3.10/site-packages (from google-auth<3.0dev,>=1.25.0->google-cloud-storage) (5.3.1)\n",
      "Requirement already satisfied: six>=1.9.0 in ./anaconda3/lib/python3.10/site-packages (from google-auth<3.0dev,>=1.25.0->google-cloud-storage) (1.16.0)\n",
      "Requirement already satisfied: google-crc32c<2.0dev,>=1.0 in ./anaconda3/lib/python3.10/site-packages (from google-resumable-media>=2.3.2->google-cloud-storage) (1.5.0)\n",
      "Requirement already satisfied: certifi>=2017.4.17 in ./anaconda3/lib/python3.10/site-packages (from requests<3.0.0dev,>=2.18.0->google-cloud-storage) (2023.5.7)\n",
      "Requirement already satisfied: idna<4,>=2.5 in ./anaconda3/lib/python3.10/site-packages (from requests<3.0.0dev,>=2.18.0->google-cloud-storage) (3.4)\n",
      "Requirement already satisfied: charset-normalizer<3,>=2 in ./anaconda3/lib/python3.10/site-packages (from requests<3.0.0dev,>=2.18.0->google-cloud-storage) (2.0.4)\n",
      "Requirement already satisfied: pyasn1<0.5.0,>=0.4.6 in ./anaconda3/lib/python3.10/site-packages (from pyasn1-modules>=0.2.1->google-auth<3.0dev,>=1.25.0->google-cloud-storage) (0.4.8)\n"
     ]
    }
   ],
   "source": [
    "! pip install google-cloud-storage"
   ]
  },
  {
   "cell_type": "code",
   "execution_count": 9,
   "id": "f13963a6",
   "metadata": {},
   "outputs": [],
   "source": [
    "import os\n",
    "import time\n",
    "import subprocess\n",
    "from google.cloud import storage\n",
    "import getpass"
   ]
  },
  {
   "cell_type": "code",
   "execution_count": 19,
   "id": "ee49e099",
   "metadata": {},
   "outputs": [
    {
     "name": "stdout",
     "output_type": "stream",
     "text": [
      "Enter username:········\n",
      "Enter password:········\n"
     ]
    }
   ],
   "source": [
    "# Set your MySQL database configurations\n",
    "\n",
    "username = getpass.getpass('Enter username:')\n",
    "password = getpass.getpass('Enter password:')\n",
    "public_ip_address = '35.239.201.185'\n",
    "db_name = 'gmb'\n",
    "test_db_name = 'gmb_test'"
   ]
  },
  {
   "cell_type": "code",
   "execution_count": 20,
   "id": "ca259210",
   "metadata": {},
   "outputs": [],
   "source": [
    "# Set your GCS bucket configurations\n",
    "gcs_bucket_name = 'gmb-database-backup'\n",
    "gcs_backup_blob_name = 'backup.sql'\n",
    "# Path to store the temporary backup file\n",
    "TEMP_BACKUP_PATH = '/tmp/backup.sql'\n"
   ]
  },
  {
   "cell_type": "code",
   "execution_count": 21,
   "id": "9826093e",
   "metadata": {},
   "outputs": [],
   "source": [
    "## create a backup of the database in the GCP S3 folder\n",
    "def create_mysql_backup():\n",
    "    try:\n",
    "        # Construct the mysqldump command\n",
    "        cmd = f\"mysqldump -h {public_ip_address} -u {username} -p{password} {db_name} > {TEMP_BACKUP_PATH}\"\n",
    "        \n",
    "        # Execute the mysqldump command\n",
    "        subprocess.run(cmd, shell=True, check=True)\n",
    "        print(\"MySQL backup created successfully\")\n",
    "    except Exception as e:\n",
    "        print(\"Error creating MySQL backup:\", str(e))\n",
    "    \n",
    "def upload_backup_to_gcs():\n",
    "    try:\n",
    "        # Initialize GCS client\n",
    "        storage_client = storage.Client()\n",
    "        bucket = storage_client.bucket(gcs_bucket_name)\n",
    "        \n",
    "        # Upload the backup file to GCS\n",
    "        blob = bucket.blob(gcs_backup_blob_name)\n",
    "        blob.upload_from_filename(TEMP_BACKUP_PATH)\n",
    "        print(\"Backup uploaded to GCS successfully\")\n",
    "    except Exception as e:\n",
    "        print(\"Error uploading backup to GCS:\", str(e))\n",
    "        "
   ]
  },
  {
   "cell_type": "code",
   "execution_count": 22,
   "id": "4acecb4c",
   "metadata": {},
   "outputs": [],
   "source": [
    "## Allow user to create a new (test) data base  \n",
    "def create_test_database():\n",
    "    try:\n",
    "        connection = mysql.connector.connect(\n",
    "            host=public_ip_address,\n",
    "            user=username,\n",
    "            password=password,\n",
    "            database='',\n",
    "        )       \n",
    "        cursor = connection.cursor()\n",
    "        cursor.execute(f\"CREATE DATABASE IF NOT EXISTS {test_db_name}\")\n",
    "        cursor.close()\n",
    "        connection.close()\n",
    "        print(f\"Test database '{test_db_name}' created successfully\")\n",
    "    except Exception as e:\n",
    "        print(\"Error creating test database:\", str(e))\n",
    "        "
   ]
  },
  {
   "cell_type": "code",
   "execution_count": 23,
   "id": "6ad71b4a",
   "metadata": {},
   "outputs": [],
   "source": [
    "## Test backend code config with new restored database for testing\n",
    "def test_backend_code():\n",
    "    try:\n",
    "        # Initialize MySQL connection\n",
    "        connection = mysql.connector.connect(\n",
    "            host=public_ip_address,\n",
    "            user=username,\n",
    "            password=password,\n",
    "            database=db_name  # Use the restored database\n",
    "        )\n",
    "\n",
    "        cursor = connection.cursor()\n",
    "\n",
    "        # Perform actions with the database\n",
    "        # For example:\n",
    "        # cursor.execute(\"SELECT * FROM your_table;\")\n",
    "        # data = cursor.fetchall()\n",
    "        # print(data)\n",
    "\n",
    "        cursor.close()\n",
    "        connection.close()\n",
    "\n",
    "    except Exception as e:\n",
    "        print(\"Error testing backend code:\", str(e))\n"
   ]
  }
 ],
 "metadata": {
  "kernelspec": {
   "display_name": "Python 3 (ipykernel)",
   "language": "python",
   "name": "python3"
  },
  "language_info": {
   "codemirror_mode": {
    "name": "ipython",
    "version": 3
   },
   "file_extension": ".py",
   "mimetype": "text/x-python",
   "name": "python",
   "nbconvert_exporter": "python",
   "pygments_lexer": "ipython3",
   "version": "3.10.9"
  }
 },
 "nbformat": 4,
 "nbformat_minor": 5
}
