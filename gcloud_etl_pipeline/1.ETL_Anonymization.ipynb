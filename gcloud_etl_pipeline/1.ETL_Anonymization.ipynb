{
 "cells": [
  {
   "cell_type": "code",
   "execution_count": 107,
   "id": "620c7740",
   "metadata": {},
   "outputs": [],
   "source": [
    "# import dependencies\n",
    "import pandas as pd\n",
    "import numpy as np\n",
    "import sys\n",
    "from datetime import datetime\n",
    "import getpass\n",
    "from IPython.display import display\n",
    "\n",
    "\n",
    "# # For MySQL\n",
    "# from sqlalchemy import create_engine\n",
    "# import pandas as pd\n",
    "# import pymysql\n",
    "\n",
    "# For PostgreSQL\n",
    "from sqlalchemy import create_engine\n",
    "import pandas as pd\n",
    "import psycopg2\n",
    "\n",
    "# # For SQL Server\n",
    "# from sqlalchemy import create_engine\n",
    "# import pandas as pd\n",
    "# import pyodbc"
   ]
  },
  {
   "cell_type": "code",
   "execution_count": 91,
   "id": "d6f6e962",
   "metadata": {},
   "outputs": [
    {
     "name": "stdout",
     "output_type": "stream",
     "text": [
      "Enter password:········\n"
     ]
    }
   ],
   "source": [
    "import psycopg2\n",
    "\n",
    "username = 'gmb'\n",
    "password = getpass.getpass('Enter password:')\n",
    "public_ip_address = '34.133.118.52'\n",
    "db_name = 'gmb'\n",
    "\n",
    "# Create a connection\n",
    "conn = psycopg2.connect(\n",
    "    dbname=db_name,\n",
    "    user=username,\n",
    "    password=password,\n",
    "    host=public_ip_address\n",
    ")\n",
    "\n",
    "# Create a cursor\n",
    "cur = conn.cursor()"
   ]
  },
  {
   "cell_type": "markdown",
   "id": "95d4657a",
   "metadata": {},
   "source": [
    "# Interactive Database Exploration Tool\n",
    "\n",
    "This tool provides an interactive prompt to the users, allowing them to explore the database by viewing table names, column names, and a sample of the data points. Users can choose to view specific details based on their preferences.\n"
   ]
  },
  {
   "cell_type": "markdown",
   "id": "d6de101b",
   "metadata": {},
   "source": [
    "### Show Table names"
   ]
  },
  {
   "cell_type": "code",
   "execution_count": 92,
   "id": "989279f2",
   "metadata": {},
   "outputs": [],
   "source": [
    "def show_tables (cursor):\n",
    "    \n",
    "    query_tables = \"\"\" \n",
    "    select tablename\n",
    "    from pg_catalog.pg_tables\n",
    "    where schemaname != 'pg_catalog' AND\n",
    "          schemaname != 'information_schema';\n",
    "    \"\"\"\n",
    "    cursor.execute(query_tables)\n",
    "    tables = cursor.fetchall()\n",
    "    if tables:\n",
    "        for table in tables:\n",
    "            print(table[0])\n",
    "    else:\n",
    "        print(\"No tables found.\")"
   ]
  },
  {
   "cell_type": "markdown",
   "id": "7e6f4b28",
   "metadata": {},
   "source": [
    "### Show Sample Data Points"
   ]
  },
  {
   "cell_type": "code",
   "execution_count": 108,
   "id": "dbb311dd",
   "metadata": {},
   "outputs": [],
   "source": [
    "def show_sample_data(cursor, table_name):\n",
    "    \n",
    "    query_sample = f\"select * from {table_name} limit 5;\"\n",
    "    \n",
    "    df_sample = pd.read_sql(query_sample, cursor.connection)\n",
    "    df_sample = pd.DataFrame(df_sample)\n",
    "    print(f\"Sample data from {table_name}:\")\n",
    "    display(df_sample)\n"
   ]
  },
  {
   "cell_type": "code",
   "execution_count": 95,
   "id": "66b8096a",
   "metadata": {},
   "outputs": [
    {
     "name": "stdout",
     "output_type": "stream",
     "text": [
      "Do you like to see the table names? (Yes/No): yes\n",
      "activity_category\n",
      "activity_activitytemplateusage\n",
      "activity_customprompt\n",
      "activity_activitytemplate\n",
      "activity_activitytemplate_categories\n",
      "activity_templateevent\n",
      "activity_note\n",
      "activity_habit\n",
      "activity_negativebehaviour\n",
      "activity_plan\n",
      "activity_templateevent_prompts\n",
      "activity_event_prompts\n",
      "auth_permission\n",
      "auth_group_permissions\n",
      "auth_group\n",
      "activity_event\n",
      "billing_subscriptionplan\n",
      "avatar_avatareyes\n",
      "avatar_avatarhair\n",
      "avatar_avatarmouth\n",
      "billing_paymentsubscription\n",
      "challenge_challengeicon\n",
      "challenge_challenge_categories\n",
      "billing_subscriptionplan_segmentation\n",
      "campaigns_campaign\n",
      "campaigns_campaign_subscription_plans\n",
      "billing_paymentcustomer\n",
      "challenge_challengeinvite\n",
      "challenge_challengechatmessage\n",
      "avatar_avatarbody\n",
      "challenge_challenge\n",
      "chat_chatmessage\n",
      "chat_thread\n",
      "community_communityquestion\n",
      "connected_app_app\n",
      "django_admin_log\n",
      "community_community\n",
      "group_group_categories\n",
      "challenge_challengeparticipant\n",
      "django_session\n",
      "django_migrations\n",
      "django_site\n",
      "django_content_type\n",
      "group_group\n",
      "community_communitydatasource\n",
      "group_groupchatmessage\n",
      "group_groupinvite\n",
      "group_groupannouncement\n",
      "group_grouppostresponse\n",
      "group_groupmembership\n",
      "group_grouppost\n",
      "matching_matching\n",
      "group_groupqueue\n",
      "group_grouprequest\n",
      "matching_buddyrequesthistory\n",
      "matching_emailmatchingstorage\n",
      "group_groupicon\n",
      "matching_matchingalgorithm\n",
      "matching_matchinglogic\n",
      "matching_buddyrequest\n",
      "matching_algorithmbackendscore\n",
      "matching_matchinglogichistory\n",
      "matching_matchingsettings\n",
      "member_gender\n",
      "member_memberinvitation\n",
      "member_loginhistory\n",
      "member_notification\n",
      "member_secondaryemail\n",
      "member_user_applications\n",
      "member_segmentation\n",
      "member_location\n",
      "member_timezonehelper\n",
      "member_communicationpreference\n",
      "member_user\n",
      "member_user_negative_behaviours\n",
      "member_user_user_permissions\n",
      "member_userdata\n",
      "newsbox_shoutout\n",
      "newsbox_quote\n",
      "member_userhabit\n",
      "member_usersetting\n",
      "newsbox_announcement\n",
      "oauth2_provider_accesstoken\n",
      "oauth2_provider_application\n",
      "member_user_groups\n",
      "questionnaire_choice\n",
      "oauth2_provider_grant\n",
      "questionnaire_module\n",
      "silk_request\n",
      "scoring_grouplevel\n",
      "scoring_difficulty\n",
      "scoring_rewardexperience\n",
      "oauth2_provider_refreshtoken\n",
      "scoring_userexperience\n",
      "scoring_level\n",
      "silk_response\n",
      "silk_profile\n",
      "sentence_generator_sentence\n",
      "silk_profile_queries\n",
      "questionnaire_question\n",
      "questionnaire_module_questions\n",
      "social_auth_usersocialauth\n",
      "social_auth_association\n",
      "social_auth_code\n",
      "social_auth_nonce\n",
      "social_auth_partial\n",
      "activity_custompromptvalue\n",
      "member_user_communication_preferences\n",
      "silk_sqlquery\n",
      "billing_paymentcustomer_anonymized\n",
      "member_user_anonymized\n",
      "member_location_anonymized\n"
     ]
    }
   ],
   "source": [
    "################### show tables\n",
    "if input(\"Do you like to see the table names? (Yes/No): \").strip().lower() == \"yes\":\n",
    "    show_tables(cur)"
   ]
  },
  {
   "cell_type": "code",
   "execution_count": 109,
   "id": "711fceea",
   "metadata": {},
   "outputs": [
    {
     "name": "stdout",
     "output_type": "stream",
     "text": [
      "Would you like to access and see a sample of the data points (yes/no): yes\n",
      "Please enter the table name: scoring_level\n",
      "Sample data from scoring_level:\n"
     ]
    },
    {
     "name": "stderr",
     "output_type": "stream",
     "text": [
      "/Users/ruddysimonpour/opt/anaconda3/envs/pythonenv/lib/python3.10/site-packages/pandas/io/sql.py:761: UserWarning: pandas only support SQLAlchemy connectable(engine/connection) ordatabase string URI or sqlite3 DBAPI2 connectionother DBAPI2 objects are not tested, please consider using SQLAlchemy\n",
      "  warnings.warn(\n"
     ]
    },
    {
     "data": {
      "text/html": [
       "<div>\n",
       "<style scoped>\n",
       "    .dataframe tbody tr th:only-of-type {\n",
       "        vertical-align: middle;\n",
       "    }\n",
       "\n",
       "    .dataframe tbody tr th {\n",
       "        vertical-align: top;\n",
       "    }\n",
       "\n",
       "    .dataframe thead th {\n",
       "        text-align: right;\n",
       "    }\n",
       "</style>\n",
       "<table border=\"1\" class=\"dataframe\">\n",
       "  <thead>\n",
       "    <tr style=\"text-align: right;\">\n",
       "      <th></th>\n",
       "      <th>id</th>\n",
       "      <th>name</th>\n",
       "      <th>level</th>\n",
       "      <th>category</th>\n",
       "      <th>xp_requirement</th>\n",
       "      <th>color</th>\n",
       "    </tr>\n",
       "  </thead>\n",
       "  <tbody>\n",
       "    <tr>\n",
       "      <th>0</th>\n",
       "      <td>9</td>\n",
       "      <td>Doughy</td>\n",
       "      <td>1</td>\n",
       "      <td>1</td>\n",
       "      <td>0</td>\n",
       "      <td>None</td>\n",
       "    </tr>\n",
       "    <tr>\n",
       "      <th>1</th>\n",
       "      <td>10</td>\n",
       "      <td>Average</td>\n",
       "      <td>2</td>\n",
       "      <td>1</td>\n",
       "      <td>100</td>\n",
       "      <td>None</td>\n",
       "    </tr>\n",
       "    <tr>\n",
       "      <th>2</th>\n",
       "      <td>11</td>\n",
       "      <td>Trainee</td>\n",
       "      <td>3</td>\n",
       "      <td>1</td>\n",
       "      <td>400</td>\n",
       "      <td>None</td>\n",
       "    </tr>\n",
       "    <tr>\n",
       "      <th>3</th>\n",
       "      <td>12</td>\n",
       "      <td>Four-Pack Buddy</td>\n",
       "      <td>4</td>\n",
       "      <td>1</td>\n",
       "      <td>1000</td>\n",
       "      <td>None</td>\n",
       "    </tr>\n",
       "    <tr>\n",
       "      <th>4</th>\n",
       "      <td>13</td>\n",
       "      <td>Fitness Assistant</td>\n",
       "      <td>5</td>\n",
       "      <td>1</td>\n",
       "      <td>2000</td>\n",
       "      <td>None</td>\n",
       "    </tr>\n",
       "  </tbody>\n",
       "</table>\n",
       "</div>"
      ],
      "text/plain": [
       "   id               name  level  category  xp_requirement color\n",
       "0   9             Doughy      1         1               0  None\n",
       "1  10            Average      2         1             100  None\n",
       "2  11            Trainee      3         1             400  None\n",
       "3  12    Four-Pack Buddy      4         1            1000  None\n",
       "4  13  Fitness Assistant      5         1            2000  None"
      ]
     },
     "metadata": {},
     "output_type": "display_data"
    }
   ],
   "source": [
    "#################### show data sample\n",
    "if input(\"Would you like to access and see a sample of the data points (yes/no): \").strip().lower() == \"yes\":\n",
    "    \n",
    "    table_name = input(\"Please enter the table name: \")\n",
    "    show_sample_data(cur, table_name)"
   ]
  },
  {
   "cell_type": "markdown",
   "id": "7fb222a9",
   "metadata": {},
   "source": [
    "# Anonymization"
   ]
  },
  {
   "cell_type": "code",
   "execution_count": 5,
   "id": "18c21a53",
   "metadata": {},
   "outputs": [
    {
     "name": "stderr",
     "output_type": "stream",
     "text": [
      "/Users/ruddysimonpour/opt/anaconda3/envs/pythonenv/lib/python3.10/site-packages/pandas/io/sql.py:761: UserWarning: pandas only support SQLAlchemy connectable(engine/connection) ordatabase string URI or sqlite3 DBAPI2 connectionother DBAPI2 objects are not tested, please consider using SQLAlchemy\n",
      "  warnings.warn(\n"
     ]
    },
    {
     "data": {
      "text/html": [
       "<div>\n",
       "<style scoped>\n",
       "    .dataframe tbody tr th:only-of-type {\n",
       "        vertical-align: middle;\n",
       "    }\n",
       "\n",
       "    .dataframe tbody tr th {\n",
       "        vertical-align: top;\n",
       "    }\n",
       "\n",
       "    .dataframe thead th {\n",
       "        text-align: right;\n",
       "    }\n",
       "</style>\n",
       "<table border=\"1\" class=\"dataframe\">\n",
       "  <thead>\n",
       "    <tr style=\"text-align: right;\">\n",
       "      <th></th>\n",
       "      <th>table_name</th>\n",
       "    </tr>\n",
       "  </thead>\n",
       "  <tbody>\n",
       "    <tr>\n",
       "      <th>0</th>\n",
       "      <td>billing_paymentcustomer</td>\n",
       "    </tr>\n",
       "    <tr>\n",
       "      <th>1</th>\n",
       "      <td>challenge_challengeinvite</td>\n",
       "    </tr>\n",
       "    <tr>\n",
       "      <th>2</th>\n",
       "      <td>group_groupinvite</td>\n",
       "    </tr>\n",
       "    <tr>\n",
       "      <th>3</th>\n",
       "      <td>matching_matchingsettings</td>\n",
       "    </tr>\n",
       "    <tr>\n",
       "      <th>4</th>\n",
       "      <td>member_user</td>\n",
       "    </tr>\n",
       "    <tr>\n",
       "      <th>5</th>\n",
       "      <td>social_auth_code</td>\n",
       "    </tr>\n",
       "  </tbody>\n",
       "</table>\n",
       "</div>"
      ],
      "text/plain": [
       "                  table_name\n",
       "0    billing_paymentcustomer\n",
       "1  challenge_challengeinvite\n",
       "2          group_groupinvite\n",
       "3  matching_matchingsettings\n",
       "4                member_user\n",
       "5           social_auth_code"
      ]
     },
     "execution_count": 5,
     "metadata": {},
     "output_type": "execute_result"
    }
   ],
   "source": [
    "query = \"\"\"\n",
    "\n",
    "SELECT distinct table_name\n",
    "        FROM information_schema.columns\n",
    "WHERE column_name = 'first_name' \n",
    "   OR column_name = 'last_name'\n",
    "   OR column_name = 'phone'\n",
    "   OR column_name = 'email'\n",
    "   OR column_name = 'zipcode'\n",
    "   OR column_name = 'password' \n",
    "\"\"\"\n",
    "sensitive_tables = pd.read_sql(query, conn)\n",
    "sensitive_tables"
   ]
  },
  {
   "cell_type": "markdown",
   "id": "80f3d4e1",
   "metadata": {},
   "source": [
    "### billing_paymentcustomer\n"
   ]
  },
  {
   "cell_type": "code",
   "execution_count": 6,
   "id": "fc5fa99b",
   "metadata": {},
   "outputs": [
    {
     "name": "stderr",
     "output_type": "stream",
     "text": [
      "/Users/ruddysimonpour/opt/anaconda3/envs/pythonenv/lib/python3.10/site-packages/pandas/io/sql.py:761: UserWarning: pandas only support SQLAlchemy connectable(engine/connection) ordatabase string URI or sqlite3 DBAPI2 connectionother DBAPI2 objects are not tested, please consider using SQLAlchemy\n",
      "  warnings.warn(\n"
     ]
    }
   ],
   "source": [
    "query_billing = \"select * from billing_paymentcustomer\"\n",
    "biling_paymentcustomer_df = pd.read_sql(query_billing, conn)"
   ]
  },
  {
   "cell_type": "code",
   "execution_count": 8,
   "id": "91154659",
   "metadata": {},
   "outputs": [],
   "source": [
    "biling_paymentcustomer_anonydf = biling_paymentcustomer_df.copy()\n",
    "\n",
    "biling_paymentcustomer_anonydf['first_name'] = biling_paymentcustomer_anonydf['id']\\\n",
    ".apply(lambda x: 'FirstUser{}'.format(x))\n",
    "\n",
    "biling_paymentcustomer_anonydf['last_name'] = biling_paymentcustomer_anonydf['id']\\\n",
    ".apply(lambda x: 'LastUser{}'.format(x))\n",
    "\n",
    "biling_paymentcustomer_anonydf['email'] = biling_paymentcustomer_anonydf['id']\\\n",
    ".apply(lambda x: 'user{}@example.com'.format(x))\n",
    "\n",
    "if 'phone' in biling_paymentcustomer_anonydf.columns:\n",
    "    biling_paymentcustomer_anonydf['phone'] = biling_paymentcustomer_anonydf['id']\\\n",
    "    .apply(lambda x: '123456{}'.format(x))\n",
    "    \n",
    "if 'created_from_ip' in biling_paymentcustomer_anonydf.columns:\n",
    "    biling_paymentcustomer_anonydf['created_from_ip'] = \"192.168.1.1\" \n",
    "    \n"
   ]
  },
  {
   "cell_type": "markdown",
   "id": "00b6a27d",
   "metadata": {},
   "source": [
    "**About anonymizing IP address:**\n",
    "\"192.168.1.1\" is a commonly used default IP address for many routers and home networking equipment. It falls within the range of IP addresses (192.168.0.0 to 192.168.255.255) reserved for private networks, meaning these addresses are not routable on the public internet and are often used for local network devices."
   ]
  },
  {
   "cell_type": "code",
   "execution_count": 9,
   "id": "b42e43b6",
   "metadata": {},
   "outputs": [],
   "source": [
    "db_url = f\"postgresql://{username}:{password}@{public_ip_address}/{db_name}\"\n",
    "\n",
    "# SQLAlchemy engine\n",
    "engine = create_engine(db_url)"
   ]
  },
  {
   "cell_type": "markdown",
   "id": "b7cc52ea",
   "metadata": {},
   "source": [
    "when using the `to_sql()` method in pandas, you need to provide an SQLAlchemy engine, not a psycopg2 connection. This is because pandas uses SQLAlchemy to handle SQL dialects."
   ]
  },
  {
   "cell_type": "code",
   "execution_count": 10,
   "id": "3ca6b2c5",
   "metadata": {},
   "outputs": [
    {
     "data": {
      "text/plain": [
       "590"
      ]
     },
     "execution_count": 10,
     "metadata": {},
     "output_type": "execute_result"
    }
   ],
   "source": [
    "biling_paymentcustomer_anonydf.to_sql('billing_paymentcustomer_anonymized', engine, if_exists='replace', index=False)\n"
   ]
  },
  {
   "cell_type": "markdown",
   "id": "6df69be1",
   "metadata": {},
   "source": [
    "### challenge_challengeinvite"
   ]
  },
  {
   "cell_type": "code",
   "execution_count": 11,
   "id": "623ad8d0",
   "metadata": {},
   "outputs": [
    {
     "name": "stderr",
     "output_type": "stream",
     "text": [
      "/Users/ruddysimonpour/opt/anaconda3/envs/pythonenv/lib/python3.10/site-packages/pandas/io/sql.py:761: UserWarning: pandas only support SQLAlchemy connectable(engine/connection) ordatabase string URI or sqlite3 DBAPI2 connectionother DBAPI2 objects are not tested, please consider using SQLAlchemy\n",
      "  warnings.warn(\n"
     ]
    },
    {
     "data": {
      "text/html": [
       "<div>\n",
       "<style scoped>\n",
       "    .dataframe tbody tr th:only-of-type {\n",
       "        vertical-align: middle;\n",
       "    }\n",
       "\n",
       "    .dataframe tbody tr th {\n",
       "        vertical-align: top;\n",
       "    }\n",
       "\n",
       "    .dataframe thead th {\n",
       "        text-align: right;\n",
       "    }\n",
       "</style>\n",
       "<table border=\"1\" class=\"dataframe\">\n",
       "  <thead>\n",
       "    <tr style=\"text-align: right;\">\n",
       "      <th></th>\n",
       "      <th>id</th>\n",
       "      <th>email</th>\n",
       "      <th>status</th>\n",
       "      <th>created_at</th>\n",
       "      <th>updated_at</th>\n",
       "      <th>challenge_id</th>\n",
       "      <th>invited_by_id</th>\n",
       "      <th>user_id</th>\n",
       "    </tr>\n",
       "  </thead>\n",
       "  <tbody>\n",
       "    <tr>\n",
       "      <th>0</th>\n",
       "      <td>12</td>\n",
       "      <td>None</td>\n",
       "      <td>20</td>\n",
       "      <td>2020-04-01 23:12:53.059068+00:00</td>\n",
       "      <td>2020-04-04 01:22:50.061822+00:00</td>\n",
       "      <td>158</td>\n",
       "      <td>2</td>\n",
       "      <td>9033</td>\n",
       "    </tr>\n",
       "    <tr>\n",
       "      <th>1</th>\n",
       "      <td>3</td>\n",
       "      <td>None</td>\n",
       "      <td>10</td>\n",
       "      <td>2020-03-14 23:41:45.580212+00:00</td>\n",
       "      <td>2020-03-14 23:41:45.580235+00:00</td>\n",
       "      <td>124</td>\n",
       "      <td>2</td>\n",
       "      <td>9065</td>\n",
       "    </tr>\n",
       "    <tr>\n",
       "      <th>2</th>\n",
       "      <td>5</td>\n",
       "      <td>None</td>\n",
       "      <td>10</td>\n",
       "      <td>2020-03-14 23:44:36.088580+00:00</td>\n",
       "      <td>2020-03-14 23:44:36.088598+00:00</td>\n",
       "      <td>117</td>\n",
       "      <td>2</td>\n",
       "      <td>17</td>\n",
       "    </tr>\n",
       "    <tr>\n",
       "      <th>3</th>\n",
       "      <td>2</td>\n",
       "      <td>None</td>\n",
       "      <td>20</td>\n",
       "      <td>2020-03-14 20:23:03.564005+00:00</td>\n",
       "      <td>2020-03-14 23:45:46.688291+00:00</td>\n",
       "      <td>117</td>\n",
       "      <td>2</td>\n",
       "      <td>9237</td>\n",
       "    </tr>\n",
       "    <tr>\n",
       "      <th>4</th>\n",
       "      <td>4</td>\n",
       "      <td>None</td>\n",
       "      <td>20</td>\n",
       "      <td>2020-03-14 23:44:35.956449+00:00</td>\n",
       "      <td>2020-03-15 00:07:48.216763+00:00</td>\n",
       "      <td>124</td>\n",
       "      <td>2</td>\n",
       "      <td>17</td>\n",
       "    </tr>\n",
       "    <tr>\n",
       "      <th>...</th>\n",
       "      <td>...</td>\n",
       "      <td>...</td>\n",
       "      <td>...</td>\n",
       "      <td>...</td>\n",
       "      <td>...</td>\n",
       "      <td>...</td>\n",
       "      <td>...</td>\n",
       "      <td>...</td>\n",
       "    </tr>\n",
       "    <tr>\n",
       "      <th>485</th>\n",
       "      <td>552</td>\n",
       "      <td>None</td>\n",
       "      <td>20</td>\n",
       "      <td>2023-03-12 08:12:37.341775+00:00</td>\n",
       "      <td>2023-03-12 08:46:28.135503+00:00</td>\n",
       "      <td>843</td>\n",
       "      <td>2</td>\n",
       "      <td>13382</td>\n",
       "    </tr>\n",
       "    <tr>\n",
       "      <th>486</th>\n",
       "      <td>555</td>\n",
       "      <td>None</td>\n",
       "      <td>10</td>\n",
       "      <td>2023-03-27 06:11:07.022965+00:00</td>\n",
       "      <td>2023-03-27 06:11:07.022989+00:00</td>\n",
       "      <td>838</td>\n",
       "      <td>2</td>\n",
       "      <td>13427</td>\n",
       "    </tr>\n",
       "    <tr>\n",
       "      <th>487</th>\n",
       "      <td>554</td>\n",
       "      <td>None</td>\n",
       "      <td>10</td>\n",
       "      <td>2023-03-27 06:11:07.022602+00:00</td>\n",
       "      <td>2023-03-27 06:11:07.022638+00:00</td>\n",
       "      <td>842</td>\n",
       "      <td>2</td>\n",
       "      <td>13427</td>\n",
       "    </tr>\n",
       "    <tr>\n",
       "      <th>488</th>\n",
       "      <td>556</td>\n",
       "      <td>None</td>\n",
       "      <td>20</td>\n",
       "      <td>2023-05-02 08:07:59.558115+00:00</td>\n",
       "      <td>2023-05-02 16:42:18.068892+00:00</td>\n",
       "      <td>848</td>\n",
       "      <td>2</td>\n",
       "      <td>12858</td>\n",
       "    </tr>\n",
       "    <tr>\n",
       "      <th>489</th>\n",
       "      <td>557</td>\n",
       "      <td>None</td>\n",
       "      <td>10</td>\n",
       "      <td>2023-07-12 13:42:48.051535+00:00</td>\n",
       "      <td>2023-07-12 13:42:48.051559+00:00</td>\n",
       "      <td>865</td>\n",
       "      <td>2</td>\n",
       "      <td>13645</td>\n",
       "    </tr>\n",
       "  </tbody>\n",
       "</table>\n",
       "<p>490 rows × 8 columns</p>\n",
       "</div>"
      ],
      "text/plain": [
       "      id email  status                       created_at  \\\n",
       "0     12  None      20 2020-04-01 23:12:53.059068+00:00   \n",
       "1      3  None      10 2020-03-14 23:41:45.580212+00:00   \n",
       "2      5  None      10 2020-03-14 23:44:36.088580+00:00   \n",
       "3      2  None      20 2020-03-14 20:23:03.564005+00:00   \n",
       "4      4  None      20 2020-03-14 23:44:35.956449+00:00   \n",
       "..   ...   ...     ...                              ...   \n",
       "485  552  None      20 2023-03-12 08:12:37.341775+00:00   \n",
       "486  555  None      10 2023-03-27 06:11:07.022965+00:00   \n",
       "487  554  None      10 2023-03-27 06:11:07.022602+00:00   \n",
       "488  556  None      20 2023-05-02 08:07:59.558115+00:00   \n",
       "489  557  None      10 2023-07-12 13:42:48.051535+00:00   \n",
       "\n",
       "                          updated_at  challenge_id  invited_by_id  user_id  \n",
       "0   2020-04-04 01:22:50.061822+00:00           158              2     9033  \n",
       "1   2020-03-14 23:41:45.580235+00:00           124              2     9065  \n",
       "2   2020-03-14 23:44:36.088598+00:00           117              2       17  \n",
       "3   2020-03-14 23:45:46.688291+00:00           117              2     9237  \n",
       "4   2020-03-15 00:07:48.216763+00:00           124              2       17  \n",
       "..                               ...           ...            ...      ...  \n",
       "485 2023-03-12 08:46:28.135503+00:00           843              2    13382  \n",
       "486 2023-03-27 06:11:07.022989+00:00           838              2    13427  \n",
       "487 2023-03-27 06:11:07.022638+00:00           842              2    13427  \n",
       "488 2023-05-02 16:42:18.068892+00:00           848              2    12858  \n",
       "489 2023-07-12 13:42:48.051559+00:00           865              2    13645  \n",
       "\n",
       "[490 rows x 8 columns]"
      ]
     },
     "execution_count": 11,
     "metadata": {},
     "output_type": "execute_result"
    }
   ],
   "source": [
    "query_challenge = \"select * from challenge_challengeinvite\" \n",
    "challenge_challengeinvite_df = pd.read_sql(query_challenge, conn)\n",
    "challenge_challengeinvite_df"
   ]
  },
  {
   "cell_type": "code",
   "execution_count": 12,
   "id": "f23d44b3",
   "metadata": {},
   "outputs": [
    {
     "data": {
      "text/plain": [
       "array([None], dtype=object)"
      ]
     },
     "execution_count": 12,
     "metadata": {},
     "output_type": "execute_result"
    }
   ],
   "source": [
    "challenge_challengeinvite_df.email.unique()"
   ]
  },
  {
   "cell_type": "markdown",
   "id": "7c559d6f",
   "metadata": {},
   "source": [
    "No need to anonymize the `challenge_challengeinvite` table currently since the `email` column consists of no emails."
   ]
  },
  {
   "cell_type": "markdown",
   "id": "73628579",
   "metadata": {},
   "source": [
    "### group_groupinvite"
   ]
  },
  {
   "cell_type": "code",
   "execution_count": 13,
   "id": "c353d7c1",
   "metadata": {},
   "outputs": [
    {
     "name": "stderr",
     "output_type": "stream",
     "text": [
      "/Users/ruddysimonpour/opt/anaconda3/envs/pythonenv/lib/python3.10/site-packages/pandas/io/sql.py:761: UserWarning: pandas only support SQLAlchemy connectable(engine/connection) ordatabase string URI or sqlite3 DBAPI2 connectionother DBAPI2 objects are not tested, please consider using SQLAlchemy\n",
      "  warnings.warn(\n"
     ]
    },
    {
     "data": {
      "text/html": [
       "<div>\n",
       "<style scoped>\n",
       "    .dataframe tbody tr th:only-of-type {\n",
       "        vertical-align: middle;\n",
       "    }\n",
       "\n",
       "    .dataframe tbody tr th {\n",
       "        vertical-align: top;\n",
       "    }\n",
       "\n",
       "    .dataframe thead th {\n",
       "        text-align: right;\n",
       "    }\n",
       "</style>\n",
       "<table border=\"1\" class=\"dataframe\">\n",
       "  <thead>\n",
       "    <tr style=\"text-align: right;\">\n",
       "      <th></th>\n",
       "      <th>id</th>\n",
       "      <th>email</th>\n",
       "      <th>status</th>\n",
       "      <th>created_at</th>\n",
       "      <th>updated_at</th>\n",
       "      <th>group_id</th>\n",
       "      <th>user_id</th>\n",
       "      <th>invited_by_id</th>\n",
       "    </tr>\n",
       "  </thead>\n",
       "  <tbody>\n",
       "    <tr>\n",
       "      <th>0</th>\n",
       "      <td>2</td>\n",
       "      <td>None</td>\n",
       "      <td>20</td>\n",
       "      <td>2019-09-10 15:59:33.490257+00:00</td>\n",
       "      <td>2019-09-10 16:36:16.351336+00:00</td>\n",
       "      <td>175</td>\n",
       "      <td>6218</td>\n",
       "      <td>2</td>\n",
       "    </tr>\n",
       "    <tr>\n",
       "      <th>1</th>\n",
       "      <td>3</td>\n",
       "      <td>None</td>\n",
       "      <td>20</td>\n",
       "      <td>2019-09-10 16:00:31.655272+00:00</td>\n",
       "      <td>2019-09-10 18:48:19.756997+00:00</td>\n",
       "      <td>175</td>\n",
       "      <td>8328</td>\n",
       "      <td>2</td>\n",
       "    </tr>\n",
       "    <tr>\n",
       "      <th>2</th>\n",
       "      <td>1</td>\n",
       "      <td>None</td>\n",
       "      <td>20</td>\n",
       "      <td>2019-09-10 15:41:35.198606+00:00</td>\n",
       "      <td>2019-09-11 07:21:00.675526+00:00</td>\n",
       "      <td>175</td>\n",
       "      <td>6294</td>\n",
       "      <td>2</td>\n",
       "    </tr>\n",
       "    <tr>\n",
       "      <th>3</th>\n",
       "      <td>6</td>\n",
       "      <td>None</td>\n",
       "      <td>10</td>\n",
       "      <td>2019-09-11 08:12:56.115308+00:00</td>\n",
       "      <td>2019-09-11 08:12:56.115330+00:00</td>\n",
       "      <td>31</td>\n",
       "      <td>5411</td>\n",
       "      <td>2</td>\n",
       "    </tr>\n",
       "    <tr>\n",
       "      <th>4</th>\n",
       "      <td>8</td>\n",
       "      <td>None</td>\n",
       "      <td>20</td>\n",
       "      <td>2019-09-11 21:05:40.445499+00:00</td>\n",
       "      <td>2019-09-11 22:24:21.599480+00:00</td>\n",
       "      <td>175</td>\n",
       "      <td>510</td>\n",
       "      <td>2</td>\n",
       "    </tr>\n",
       "    <tr>\n",
       "      <th>...</th>\n",
       "      <td>...</td>\n",
       "      <td>...</td>\n",
       "      <td>...</td>\n",
       "      <td>...</td>\n",
       "      <td>...</td>\n",
       "      <td>...</td>\n",
       "      <td>...</td>\n",
       "      <td>...</td>\n",
       "    </tr>\n",
       "    <tr>\n",
       "      <th>393</th>\n",
       "      <td>420</td>\n",
       "      <td>None</td>\n",
       "      <td>20</td>\n",
       "      <td>2023-04-19 18:52:46.022545+00:00</td>\n",
       "      <td>2023-04-19 19:57:54.151530+00:00</td>\n",
       "      <td>932</td>\n",
       "      <td>13467</td>\n",
       "      <td>2</td>\n",
       "    </tr>\n",
       "    <tr>\n",
       "      <th>394</th>\n",
       "      <td>422</td>\n",
       "      <td>None</td>\n",
       "      <td>20</td>\n",
       "      <td>2023-05-25 06:06:40.623903+00:00</td>\n",
       "      <td>2023-05-25 22:21:11.015668+00:00</td>\n",
       "      <td>1309</td>\n",
       "      <td>13523</td>\n",
       "      <td>2</td>\n",
       "    </tr>\n",
       "    <tr>\n",
       "      <th>395</th>\n",
       "      <td>421</td>\n",
       "      <td>None</td>\n",
       "      <td>20</td>\n",
       "      <td>2023-05-25 06:06:13.441424+00:00</td>\n",
       "      <td>2023-05-25 23:32:12.239884+00:00</td>\n",
       "      <td>1309</td>\n",
       "      <td>12870</td>\n",
       "      <td>2</td>\n",
       "    </tr>\n",
       "    <tr>\n",
       "      <th>396</th>\n",
       "      <td>423</td>\n",
       "      <td>None</td>\n",
       "      <td>10</td>\n",
       "      <td>2023-06-02 20:20:32.576387+00:00</td>\n",
       "      <td>2023-06-02 20:20:32.576411+00:00</td>\n",
       "      <td>1309</td>\n",
       "      <td>13407</td>\n",
       "      <td>2</td>\n",
       "    </tr>\n",
       "    <tr>\n",
       "      <th>397</th>\n",
       "      <td>424</td>\n",
       "      <td>None</td>\n",
       "      <td>10</td>\n",
       "      <td>2023-07-03 18:32:58.078235+00:00</td>\n",
       "      <td>2023-07-03 18:32:58.078258+00:00</td>\n",
       "      <td>1320</td>\n",
       "      <td>13551</td>\n",
       "      <td>2</td>\n",
       "    </tr>\n",
       "  </tbody>\n",
       "</table>\n",
       "<p>398 rows × 8 columns</p>\n",
       "</div>"
      ],
      "text/plain": [
       "      id email  status                       created_at  \\\n",
       "0      2  None      20 2019-09-10 15:59:33.490257+00:00   \n",
       "1      3  None      20 2019-09-10 16:00:31.655272+00:00   \n",
       "2      1  None      20 2019-09-10 15:41:35.198606+00:00   \n",
       "3      6  None      10 2019-09-11 08:12:56.115308+00:00   \n",
       "4      8  None      20 2019-09-11 21:05:40.445499+00:00   \n",
       "..   ...   ...     ...                              ...   \n",
       "393  420  None      20 2023-04-19 18:52:46.022545+00:00   \n",
       "394  422  None      20 2023-05-25 06:06:40.623903+00:00   \n",
       "395  421  None      20 2023-05-25 06:06:13.441424+00:00   \n",
       "396  423  None      10 2023-06-02 20:20:32.576387+00:00   \n",
       "397  424  None      10 2023-07-03 18:32:58.078235+00:00   \n",
       "\n",
       "                          updated_at  group_id  user_id  invited_by_id  \n",
       "0   2019-09-10 16:36:16.351336+00:00       175     6218              2  \n",
       "1   2019-09-10 18:48:19.756997+00:00       175     8328              2  \n",
       "2   2019-09-11 07:21:00.675526+00:00       175     6294              2  \n",
       "3   2019-09-11 08:12:56.115330+00:00        31     5411              2  \n",
       "4   2019-09-11 22:24:21.599480+00:00       175      510              2  \n",
       "..                               ...       ...      ...            ...  \n",
       "393 2023-04-19 19:57:54.151530+00:00       932    13467              2  \n",
       "394 2023-05-25 22:21:11.015668+00:00      1309    13523              2  \n",
       "395 2023-05-25 23:32:12.239884+00:00      1309    12870              2  \n",
       "396 2023-06-02 20:20:32.576411+00:00      1309    13407              2  \n",
       "397 2023-07-03 18:32:58.078258+00:00      1320    13551              2  \n",
       "\n",
       "[398 rows x 8 columns]"
      ]
     },
     "execution_count": 13,
     "metadata": {},
     "output_type": "execute_result"
    }
   ],
   "source": [
    "query_groupinvite = \"select * from group_groupinvite\" \n",
    "group_groupinvite_df = pd.read_sql(query_groupinvite, conn)\n",
    "group_groupinvite_df"
   ]
  },
  {
   "cell_type": "code",
   "execution_count": 14,
   "id": "2351bf0f",
   "metadata": {},
   "outputs": [
    {
     "data": {
      "text/plain": [
       "array([None], dtype=object)"
      ]
     },
     "execution_count": 14,
     "metadata": {},
     "output_type": "execute_result"
    }
   ],
   "source": [
    "group_groupinvite_df.email.unique()"
   ]
  },
  {
   "cell_type": "markdown",
   "id": "1b054189",
   "metadata": {},
   "source": [
    "No need to anonymize the `group_groupinvite` table currently since the `email` column consists of no emails."
   ]
  },
  {
   "cell_type": "markdown",
   "id": "bbf45668",
   "metadata": {},
   "source": [
    "### matching_matchingsettings"
   ]
  },
  {
   "cell_type": "code",
   "execution_count": 15,
   "id": "ed235a3c",
   "metadata": {},
   "outputs": [
    {
     "name": "stderr",
     "output_type": "stream",
     "text": [
      "/Users/ruddysimonpour/opt/anaconda3/envs/pythonenv/lib/python3.10/site-packages/pandas/io/sql.py:761: UserWarning: pandas only support SQLAlchemy connectable(engine/connection) ordatabase string URI or sqlite3 DBAPI2 connectionother DBAPI2 objects are not tested, please consider using SQLAlchemy\n",
      "  warnings.warn(\n"
     ]
    },
    {
     "data": {
      "text/html": [
       "<div>\n",
       "<style scoped>\n",
       "    .dataframe tbody tr th:only-of-type {\n",
       "        vertical-align: middle;\n",
       "    }\n",
       "\n",
       "    .dataframe tbody tr th {\n",
       "        vertical-align: top;\n",
       "    }\n",
       "\n",
       "    .dataframe thead th {\n",
       "        text-align: right;\n",
       "    }\n",
       "</style>\n",
       "<table border=\"1\" class=\"dataframe\">\n",
       "  <thead>\n",
       "    <tr style=\"text-align: right;\">\n",
       "      <th></th>\n",
       "      <th>id</th>\n",
       "      <th>percentage</th>\n",
       "      <th>email</th>\n",
       "    </tr>\n",
       "  </thead>\n",
       "  <tbody>\n",
       "    <tr>\n",
       "      <th>0</th>\n",
       "      <td>1</td>\n",
       "      <td>True</td>\n",
       "      <td>True</td>\n",
       "    </tr>\n",
       "  </tbody>\n",
       "</table>\n",
       "</div>"
      ],
      "text/plain": [
       "   id  percentage  email\n",
       "0   1        True   True"
      ]
     },
     "execution_count": 15,
     "metadata": {},
     "output_type": "execute_result"
    }
   ],
   "source": [
    "query_matching ='select * from matching_matchingsettings'\n",
    "matching_matchingsettings_df = pd.read_sql(query_matching, conn)\n",
    "matching_matchingsettings_df"
   ]
  },
  {
   "cell_type": "markdown",
   "id": "c6e90bef",
   "metadata": {},
   "source": [
    "No anonymization needed."
   ]
  },
  {
   "cell_type": "markdown",
   "id": "d5c53e90",
   "metadata": {},
   "source": [
    "### member_user"
   ]
  },
  {
   "cell_type": "code",
   "execution_count": 17,
   "id": "60e46eea",
   "metadata": {},
   "outputs": [
    {
     "name": "stderr",
     "output_type": "stream",
     "text": [
      "/Users/ruddysimonpour/opt/anaconda3/envs/pythonenv/lib/python3.10/site-packages/pandas/io/sql.py:761: UserWarning: pandas only support SQLAlchemy connectable(engine/connection) ordatabase string URI or sqlite3 DBAPI2 connectionother DBAPI2 objects are not tested, please consider using SQLAlchemy\n",
      "  warnings.warn(\n"
     ]
    }
   ],
   "source": [
    "query_memberuser = \"select * from member_user\" \n",
    "member_user_df = pd.read_sql(query_memberuser, conn)"
   ]
  },
  {
   "cell_type": "code",
   "execution_count": 18,
   "id": "1461e68e",
   "metadata": {},
   "outputs": [
    {
     "data": {
      "text/plain": [
       "Index(['id', 'password', 'last_login', 'is_superuser', 'first_name',\n",
       "       'last_name', 'is_staff', 'is_active', 'date_joined', 'email',\n",
       "       'middle_name', 'avatar', 'date_of_birth', 'phone_number',\n",
       "       'avatar_body_color', 'avatar_hair_color', 'timezone_name',\n",
       "       'timezone_difference', 'confirmation_hash', 'deleted_at', 'updated_at',\n",
       "       'avatar_body_id', 'avatar_eyes_id', 'avatar_hair_id', 'avatar_mouth_id',\n",
       "       'unique_hash', 'password_reset_hash', 'location_id', 'gender_id',\n",
       "       'scoring_data', 'old_beta_import', 'password_updated_at', 'on_hold_end',\n",
       "       'on_hold_start', 'invisible', 'tos_acceptance', 'unlocked_categories',\n",
       "       'available_categories', 'date_joined_beta', 'payment_customer_id',\n",
       "       'weight_loss', 'measurement_unit', 'segmentation_id', 'last_online',\n",
       "       'last_seen_buddy_requests', 'last_seen_group_invites',\n",
       "       'last_phone_verification_sent', 'phone_number_verified',\n",
       "       'phone_verification_hash', 'last_seen_challenge_invites',\n",
       "       'pre_signup_subscription_id', 'referral_code', 'redirect_url',\n",
       "       'campaign_id', 'date_register_finished'],\n",
       "      dtype='object')"
      ]
     },
     "execution_count": 18,
     "metadata": {},
     "output_type": "execute_result"
    }
   ],
   "source": [
    "# column names\n",
    "member_user_df.columns"
   ]
  },
  {
   "cell_type": "code",
   "execution_count": 19,
   "id": "330c483d",
   "metadata": {},
   "outputs": [],
   "source": [
    "import hashlib"
   ]
  },
  {
   "cell_type": "code",
   "execution_count": 20,
   "id": "0a109aa1",
   "metadata": {},
   "outputs": [],
   "source": [
    "member_user_anonydf = member_user_df.copy()\n",
    "\n",
    "member_user_anonydf['first_name'] = member_user_anonydf[\"id\"].apply(lambda x: 'FirstUser{}'.format(x)) #first_name\n",
    "\n",
    "member_user_anonydf['last_name'] = member_user_anonydf[\"id\"].apply(lambda x: 'LastUser{}'.format(x)) #last_name\n",
    "\n",
    "member_user_anonydf['email'] = member_user_anonydf[\"id\"].apply(lambda x: 'user{}example@.com'.format(x)) #email\n",
    "\n",
    "if 'phone_number' in member_user_anonydf.columns:\n",
    "    member_user_anonydf['phone_number'] = member_user_anonydf['id'].apply(lambda x: '123456{}'.format(x)) #phone\n",
    "    \n",
    "if 'password' in member_user_anonydf.columns:\n",
    "    member_user_anonydf['password'] = hashlib.sha256(password.encode('utf-8')).hexdigest() #password\n"
   ]
  },
  {
   "cell_type": "code",
   "execution_count": 21,
   "id": "9bd6d192",
   "metadata": {},
   "outputs": [
    {
     "data": {
      "text/plain": [
       "413"
      ]
     },
     "execution_count": 21,
     "metadata": {},
     "output_type": "execute_result"
    }
   ],
   "source": [
    "member_user_anonydf.to_sql('member_user_anonymized', engine, if_exists='replace', index=False)"
   ]
  },
  {
   "cell_type": "markdown",
   "id": "679970e3",
   "metadata": {},
   "source": [
    "### social_auth_code"
   ]
  },
  {
   "cell_type": "code",
   "execution_count": 22,
   "id": "cceff12e",
   "metadata": {},
   "outputs": [
    {
     "name": "stderr",
     "output_type": "stream",
     "text": [
      "/Users/ruddysimonpour/opt/anaconda3/envs/pythonenv/lib/python3.10/site-packages/pandas/io/sql.py:761: UserWarning: pandas only support SQLAlchemy connectable(engine/connection) ordatabase string URI or sqlite3 DBAPI2 connectionother DBAPI2 objects are not tested, please consider using SQLAlchemy\n",
      "  warnings.warn(\n"
     ]
    },
    {
     "data": {
      "text/html": [
       "<div>\n",
       "<style scoped>\n",
       "    .dataframe tbody tr th:only-of-type {\n",
       "        vertical-align: middle;\n",
       "    }\n",
       "\n",
       "    .dataframe tbody tr th {\n",
       "        vertical-align: top;\n",
       "    }\n",
       "\n",
       "    .dataframe thead th {\n",
       "        text-align: right;\n",
       "    }\n",
       "</style>\n",
       "<table border=\"1\" class=\"dataframe\">\n",
       "  <thead>\n",
       "    <tr style=\"text-align: right;\">\n",
       "      <th></th>\n",
       "      <th>id</th>\n",
       "      <th>email</th>\n",
       "      <th>code</th>\n",
       "      <th>verified</th>\n",
       "      <th>timestamp</th>\n",
       "    </tr>\n",
       "  </thead>\n",
       "  <tbody>\n",
       "  </tbody>\n",
       "</table>\n",
       "</div>"
      ],
      "text/plain": [
       "Empty DataFrame\n",
       "Columns: [id, email, code, verified, timestamp]\n",
       "Index: []"
      ]
     },
     "execution_count": 22,
     "metadata": {},
     "output_type": "execute_result"
    }
   ],
   "source": [
    "query_social = \"select * from social_auth_code\" \n",
    "social_auth_df = pd.read_sql(query_social, conn)\n",
    "social_auth_df"
   ]
  },
  {
   "cell_type": "markdown",
   "id": "1019674b",
   "metadata": {},
   "source": [
    "### member_location"
   ]
  },
  {
   "cell_type": "code",
   "execution_count": 24,
   "id": "c21f7d49",
   "metadata": {},
   "outputs": [
    {
     "name": "stderr",
     "output_type": "stream",
     "text": [
      "/Users/ruddysimonpour/opt/anaconda3/envs/pythonenv/lib/python3.10/site-packages/pandas/io/sql.py:761: UserWarning: pandas only support SQLAlchemy connectable(engine/connection) ordatabase string URI or sqlite3 DBAPI2 connectionother DBAPI2 objects are not tested, please consider using SQLAlchemy\n",
      "  warnings.warn(\n"
     ]
    }
   ],
   "source": [
    "query_location = \"select * from member_location\" \n",
    "member_location_df = pd.read_sql(query_location, conn)"
   ]
  },
  {
   "cell_type": "code",
   "execution_count": 25,
   "id": "1427aace",
   "metadata": {},
   "outputs": [],
   "source": [
    "import random\n",
    "\n",
    "def anonymize_street_address(formatted_address: str) -> str:\n",
    "\n",
    "    parts = formatted_address.split(\",\")\n",
    "    if len(parts) < 4:\n",
    "        return \"123 Anonymized St, Anonymized City, Anonymized State, 00000\"\n",
    "\n",
    "    random_street_name = f\"{random.randint(1,999)} Anonymized St\"\n",
    "\n",
    "    generalized_city = \"Anonymized City\"\n",
    "\n",
    "    masked_state_code = \"Anonymized State\"\n",
    "\n",
    "    anonymized_zip_code = \"00000\"\n",
    "\n",
    "    return f\"{random_street_name}, {generalized_city}, {masked_state_code}, {anonymized_zip_code}\"\n",
    "\n"
   ]
  },
  {
   "cell_type": "code",
   "execution_count": 26,
   "id": "f8ad646f",
   "metadata": {},
   "outputs": [],
   "source": [
    "member_location_anonydf = member_location_df.copy()\n",
    "\n",
    "member_location_anonydf['formatted_name'] = member_location_anonydf['formatted_name'].\\\n",
    "apply(anonymize_street_address)\n"
   ]
  },
  {
   "cell_type": "code",
   "execution_count": 27,
   "id": "3335a6a5",
   "metadata": {},
   "outputs": [
    {
     "data": {
      "text/plain": [
       "337"
      ]
     },
     "execution_count": 27,
     "metadata": {},
     "output_type": "execute_result"
    }
   ],
   "source": [
    "member_location_anonydf.to_sql('member_location_anonymized', engine, if_exists='replace', index=False)"
   ]
  }
 ],
 "metadata": {
  "kernelspec": {
   "display_name": "Python 3 (ipykernel)",
   "language": "python",
   "name": "python3"
  },
  "language_info": {
   "codemirror_mode": {
    "name": "ipython",
    "version": 3
   },
   "file_extension": ".py",
   "mimetype": "text/x-python",
   "name": "python",
   "nbconvert_exporter": "python",
   "pygments_lexer": "ipython3",
   "version": "3.10.2"
  }
 },
 "nbformat": 4,
 "nbformat_minor": 5
}
