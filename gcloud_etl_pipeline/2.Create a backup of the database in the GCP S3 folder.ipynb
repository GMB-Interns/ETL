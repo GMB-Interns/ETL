{
 "cells": [
  {
   "cell_type": "code",
   "execution_count": 1,
   "id": "51a40e57",
   "metadata": {},
   "outputs": [
    {
     "name": "stdout",
     "output_type": "stream",
     "text": [
      "Collecting google-cloud-storage\n",
      "  Downloading google_cloud_storage-2.10.0-py2.py3-none-any.whl (114 kB)\n",
      "\u001b[2K     \u001b[90m━━━━━━━━━━━━━━━━━━━━━━━━━━━━━━━━━━━━━\u001b[0m \u001b[32m114.6/114.6 KB\u001b[0m \u001b[31m934.9 kB/s\u001b[0m eta \u001b[36m0:00:00\u001b[0ma \u001b[36m0:00:01\u001b[0m\n",
      "\u001b[?25hRequirement already satisfied: google-auth<3.0dev,>=1.25.0 in /Users/ruddysimonpour/opt/anaconda3/envs/pythonenv/lib/python3.10/site-packages (from google-cloud-storage) (2.22.0)\n",
      "Collecting google-api-core!=2.0.*,!=2.1.*,!=2.2.*,!=2.3.0,<3.0.0dev,>=1.31.5\n",
      "  Downloading google_api_core-2.11.1-py3-none-any.whl (120 kB)\n",
      "\u001b[2K     \u001b[90m━━━━━━━━━━━━━━━━━━━━━━━━━━━━━━━━━━━━━━━\u001b[0m \u001b[32m120.5/120.5 KB\u001b[0m \u001b[31m3.6 MB/s\u001b[0m eta \u001b[36m0:00:00\u001b[0m\n",
      "\u001b[?25hRequirement already satisfied: requests<3.0.0dev,>=2.18.0 in /Users/ruddysimonpour/opt/anaconda3/envs/pythonenv/lib/python3.10/site-packages (from google-cloud-storage) (2.27.1)\n",
      "Collecting google-resumable-media>=2.3.2\n",
      "  Downloading google_resumable_media-2.5.0-py2.py3-none-any.whl (77 kB)\n",
      "\u001b[2K     \u001b[90m━━━━━━━━━━━━━━━━━━━━━━━━━━━━━━━━━━━━━━━━\u001b[0m \u001b[32m77.7/77.7 KB\u001b[0m \u001b[31m4.3 MB/s\u001b[0m eta \u001b[36m0:00:00\u001b[0m\n",
      "\u001b[?25hCollecting google-cloud-core<3.0dev,>=2.3.0\n",
      "  Downloading google_cloud_core-2.3.3-py2.py3-none-any.whl (29 kB)\n",
      "Requirement already satisfied: protobuf!=3.20.0,!=3.20.1,!=4.21.0,!=4.21.1,!=4.21.2,!=4.21.3,!=4.21.4,!=4.21.5,<5.0.0.dev0,>=3.19.5 in /Users/ruddysimonpour/opt/anaconda3/envs/pythonenv/lib/python3.10/site-packages (from google-api-core!=2.0.*,!=2.1.*,!=2.2.*,!=2.3.0,<3.0.0dev,>=1.31.5->google-cloud-storage) (4.23.4)\n",
      "Collecting googleapis-common-protos<2.0.dev0,>=1.56.2\n",
      "  Downloading googleapis_common_protos-1.60.0-py2.py3-none-any.whl (227 kB)\n",
      "\u001b[2K     \u001b[90m━━━━━━━━━━━━━━━━━━━━━━━━━━━━━━━━━━━━━━━\u001b[0m \u001b[32m227.6/227.6 KB\u001b[0m \u001b[31m4.5 MB/s\u001b[0m eta \u001b[36m0:00:00\u001b[0m00:01\u001b[0m\n",
      "\u001b[?25hRequirement already satisfied: pyasn1-modules>=0.2.1 in /Users/ruddysimonpour/opt/anaconda3/envs/pythonenv/lib/python3.10/site-packages (from google-auth<3.0dev,>=1.25.0->google-cloud-storage) (0.3.0)\n",
      "Requirement already satisfied: rsa<5,>=3.1.4 in /Users/ruddysimonpour/opt/anaconda3/envs/pythonenv/lib/python3.10/site-packages (from google-auth<3.0dev,>=1.25.0->google-cloud-storage) (4.9)\n",
      "Requirement already satisfied: cachetools<6.0,>=2.0.0 in /Users/ruddysimonpour/opt/anaconda3/envs/pythonenv/lib/python3.10/site-packages (from google-auth<3.0dev,>=1.25.0->google-cloud-storage) (5.3.1)\n",
      "Requirement already satisfied: six>=1.9.0 in /Users/ruddysimonpour/opt/anaconda3/envs/pythonenv/lib/python3.10/site-packages (from google-auth<3.0dev,>=1.25.0->google-cloud-storage) (1.16.0)\n",
      "Requirement already satisfied: urllib3<2.0 in /Users/ruddysimonpour/opt/anaconda3/envs/pythonenv/lib/python3.10/site-packages (from google-auth<3.0dev,>=1.25.0->google-cloud-storage) (1.26.9)\n",
      "Collecting google-crc32c<2.0dev,>=1.0\n",
      "  Downloading google_crc32c-1.5.0-cp310-cp310-macosx_10_9_x86_64.whl (30 kB)\n",
      "Requirement already satisfied: charset-normalizer~=2.0.0 in /Users/ruddysimonpour/opt/anaconda3/envs/pythonenv/lib/python3.10/site-packages (from requests<3.0.0dev,>=2.18.0->google-cloud-storage) (2.0.12)\n",
      "Requirement already satisfied: certifi>=2017.4.17 in /Users/ruddysimonpour/opt/anaconda3/envs/pythonenv/lib/python3.10/site-packages (from requests<3.0.0dev,>=2.18.0->google-cloud-storage) (2021.10.8)\n",
      "Requirement already satisfied: idna<4,>=2.5 in /Users/ruddysimonpour/opt/anaconda3/envs/pythonenv/lib/python3.10/site-packages (from requests<3.0.0dev,>=2.18.0->google-cloud-storage) (3.3)\n",
      "Requirement already satisfied: pyasn1<0.6.0,>=0.4.6 in /Users/ruddysimonpour/opt/anaconda3/envs/pythonenv/lib/python3.10/site-packages (from pyasn1-modules>=0.2.1->google-auth<3.0dev,>=1.25.0->google-cloud-storage) (0.5.0)\n",
      "Installing collected packages: googleapis-common-protos, google-crc32c, google-resumable-media, google-api-core, google-cloud-core, google-cloud-storage\n",
      "Successfully installed google-api-core-2.11.1 google-cloud-core-2.3.3 google-cloud-storage-2.10.0 google-crc32c-1.5.0 google-resumable-media-2.5.0 googleapis-common-protos-1.60.0\n"
     ]
    }
   ],
   "source": [
    "#! pip install google-cloud-storage"
   ]
  },
  {
   "cell_type": "markdown",
   "id": "dce5cdaf",
   "metadata": {},
   "source": [
    "# Required Libraries and Setup config"
   ]
  },
  {
   "cell_type": "code",
   "execution_count": 13,
   "id": "f2b7c742",
   "metadata": {},
   "outputs": [
    {
     "name": "stdout",
     "output_type": "stream",
     "text": [
      "Enter password:········\n"
     ]
    }
   ],
   "source": [
    "import pandas as pd\n",
    "from datetime import datetime\n",
    "from google.cloud import storage\n",
    "import subprocess\n",
    "import os\n",
    "import getpass\n",
    "\n",
    "\n",
    "timestamp = datetime.now().strftime(\"%Y%m%d%H%M%S\")\n",
    "environment = 'prod'\n",
    "\n",
    "# bucket information \n",
    "bucket_name = 'gmb-database-backup'\n",
    "backup_destination_path = f'{environment}/backups/{timestamp}/'\n",
    "\n",
    "username = 'gmb'\n",
    "public_ip_address = '34.133.118.52'\n",
    "db_name = 'gmb'\n",
    "port = '5432'\n",
    "password = getpass.getpass('Enter password:')\n",
    "\n",
    "\n",
    "# postgresql configuration\n",
    "db_name = db_name\n",
    "username = username\n",
    "host = public_ip_address\n",
    "port = port\n"
   ]
  },
  {
   "cell_type": "markdown",
   "id": "86dd4acc",
   "metadata": {},
   "source": [
    "### Create a Bucket"
   ]
  },
  {
   "cell_type": "code",
   "execution_count": 15,
   "id": "69170420",
   "metadata": {},
   "outputs": [],
   "source": [
    "def create_bucket():\n",
    "    storage_client = storage.Client()\n",
    "    \n",
    "    if not storage_client.lookup_bucket(bucket_name):\n",
    "        bucket = storage_client.create_bucket(bucket_name)\n",
    "        print(f\"Bucket {bucket_name} created.\")\n",
    "    else:\n",
    "        print(f\"Bucket {bucket_name} already exists.\")"
   ]
  },
  {
   "cell_type": "markdown",
   "id": "06f4249e",
   "metadata": {},
   "source": [
    "### Create the Database Backup"
   ]
  },
  {
   "cell_type": "code",
   "execution_count": 16,
   "id": "05c89a82",
   "metadata": {},
   "outputs": [],
   "source": [
    "def create_backup():\n",
    "    backup_fname = '{environment}_backup_{timestamp}.sql'\n",
    "    os.environ['PGPASSWORD'] = password\n",
    "    command = f'pg_dump -U {username} -h {host} -p {port} {db_name} > {backup_fname}'\n",
    "    \n",
    "    result = subprocess.run(command, shell=True, stdout=subprocess.PIPE, stderr=subprocess.PIPE)\n",
    "    \n",
    "    if result.returncode != 0:\n",
    "        print(\"Error creating backup:\", result.stderr.decode())\n",
    "        return None\n",
    "    \n",
    "    return backup_file_name"
   ]
  },
  {
   "cell_type": "markdown",
   "id": "2d0d85d4",
   "metadata": {},
   "source": [
    "### Upload the Backup to GCS"
   ]
  },
  {
   "cell_type": "code",
   "execution_count": 17,
   "id": "6e09a380",
   "metadata": {},
   "outputs": [],
   "source": [
    "def upload_to_gcs(file_path):\n",
    "    \n",
    "    storage_client = storage.Client()\n",
    "    bucket = storage_client.bucket(bucket_name)\n",
    "    blob = bucket.blob(os.path.join(backup_destination_path, os.path.basename(file_path)))\n",
    "    \n",
    "    blob.upload_from_filename(file_path)\n",
    "    \n",
    "    print(f\"File {file_path} uploaded to {bucket_name}/{backup_destination_path}.\")"
   ]
  },
  {
   "cell_type": "code",
   "execution_count": 18,
   "id": "40b8eedf",
   "metadata": {},
   "outputs": [
    {
     "name": "stdout",
     "output_type": "stream",
     "text": [
      "Error creating backup: pg_dump: server version: 15.2; pg_dump version: 11.5\n",
      "pg_dump: aborting because of server version mismatch\n",
      "\n"
     ]
    }
   ],
   "source": [
    "backup_file = create_backup()\n",
    "if backup_file:\n",
    "    upload_to_gcs(backup_file)"
   ]
  },
  {
   "cell_type": "code",
   "execution_count": null,
   "id": "198b4c79",
   "metadata": {},
   "outputs": [],
   "source": []
  }
 ],
 "metadata": {
  "kernelspec": {
   "display_name": "Python 3 (ipykernel)",
   "language": "python",
   "name": "python3"
  },
  "language_info": {
   "codemirror_mode": {
    "name": "ipython",
    "version": 3
   },
   "file_extension": ".py",
   "mimetype": "text/x-python",
   "name": "python",
   "nbconvert_exporter": "python",
   "pygments_lexer": "ipython3",
   "version": "3.10.2"
  }
 },
 "nbformat": 4,
 "nbformat_minor": 5
}
