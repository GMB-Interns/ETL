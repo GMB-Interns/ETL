{
 "cells": [
  {
   "cell_type": "code",
   "execution_count": 52,
   "id": "5e5232b4",
   "metadata": {},
   "outputs": [],
   "source": [
    "#! pip install google-cloud-storage\n",
    "# !pip install boto3"
   ]
  },
  {
   "cell_type": "code",
   "execution_count": 49,
   "id": "f3679c23",
   "metadata": {},
   "outputs": [
    {
     "name": "stdout",
     "output_type": "stream",
     "text": [
      "ERROR: gcloud failed to load: module 'collections' has no attribute 'Mapping'\r\n",
      "    gcloud_main = _import_gcloud_main()\r\n",
      "    import googlecloudsdk.gcloud_main\r\n",
      "    from googlecloudsdk.calliope import cli\r\n",
      "    from googlecloudsdk.calliope import actions\r\n",
      "    from googlecloudsdk.calliope import markdown\r\n",
      "    from googlecloudsdk.calliope import usage_text\r\n",
      "    from googlecloudsdk.calliope import parser_arguments\r\n",
      "    from googlecloudsdk.calliope import parser_completer\r\n",
      "    from googlecloudsdk.core.console import progress_tracker\r\n",
      "    class _BaseStagedProgressTracker(collections.Mapping):\r\n",
      "\r\n",
      "This usually indicates corruption in your gcloud installation or problems with your Python interpreter.\r\n",
      "\r\n",
      "Please verify that the following is the path to a working Python 2.7 or 3.5+ executable:\r\n",
      "    /Users/ruddysimonpour/opt/anaconda3/envs/pythonenv/bin/python3\r\n",
      "\r\n",
      "If it is not, please set the CLOUDSDK_PYTHON environment variable to point to a working Python 2.7 or 3.5+ executable.\r\n",
      "\r\n",
      "If you are still experiencing problems, please reinstall the Cloud SDK using the instructions here:\r\n",
      "    https://cloud.google.com/sdk/\r\n"
     ]
    }
   ],
   "source": [
    "!gcloud auth login --no-browser"
   ]
  },
  {
   "cell_type": "markdown",
   "id": "26c3be15",
   "metadata": {},
   "source": [
    "# Required Libraries and Setup config"
   ]
  },
  {
   "cell_type": "code",
   "execution_count": 44,
   "id": "57344801",
   "metadata": {},
   "outputs": [],
   "source": [
    "import psycopg2\n",
    "import boto3\n",
    "import google.cloud.storage as gcs\n",
    "import os"
   ]
  },
  {
   "cell_type": "code",
   "execution_count": 45,
   "id": "5daa9ec0",
   "metadata": {},
   "outputs": [],
   "source": [
    "def create_bucket(bucket_name):\n",
    "    \"\"\"Creates a bucket in GCP.\"\"\"\n",
    "\n",
    "    # Set the GOOGLE_CLOUD_PROJECT environment variable.\n",
    "    os.environ[\"GOOGLE_CLOUD_PROJECT\"] = \"getmotivatedbudd-1558746548275\"\n",
    "\n",
    "    # Create a bucket.\n",
    "    bucket = gcs.Bucket(bucket_name)\n",
    "\n",
    "    # Verify that the bucket was created successfully.\n",
    "    print(f\"Bucket created: {bucket.name}\")"
   ]
  },
  {
   "cell_type": "code",
   "execution_count": 46,
   "id": "c69cb70e",
   "metadata": {},
   "outputs": [],
   "source": [
    "def backup_database(database_name, bucket_name):\n",
    "    \"\"\"Backups the PostgreSQL database to the S3 bucket.\"\"\"\n",
    "\n",
    "    # Create a connection to the PostgreSQL database.\n",
    "    conn = psycopg2.connect(\n",
    "        host=\"34.133.118.52\",\n",
    "        port=\"5432\",\n",
    "        database=database_name,\n",
    "        user=\"gmb\",\n",
    "        password=\"rykU,t=5(8-ROE~K\"\n",
    "    )\n",
    "\n",
    "    # Create a connection to the S3 bucket.\n",
    "    s3 = boto3.resource(\"s3\")\n",
    "    bucket = s3.Bucket(bucket_name)\n",
    "\n",
    "    # Create a backup of the database.\n",
    "    cursor = conn.cursor()\n",
    "    cursor.execute(\n",
    "        f\"BACKUP DATABASE my_database TO 'backup_db.sql';\"\n",
    "    )\n",
    "    conn.commit()\n",
    "\n",
    "    # Upload the backup to the S3 bucket.\n",
    "    with open(\"backup_db.sql\", \"rb\") as f:\n",
    "        bucket.put_object(Key=\"backup_db.sql\", Body=f)\n",
    "\n",
    "    # Close the connection to the PostgreSQL database.\n",
    "    conn.close()"
   ]
  },
  {
   "cell_type": "code",
   "execution_count": 47,
   "id": "cac8f53f",
   "metadata": {},
   "outputs": [],
   "source": [
    "def main():\n",
    "    \"\"\"Creates a bucket and backups a PostgreSQL database.\"\"\"\n",
    "\n",
    "    bucket_name = \"gmb-backup\"\n",
    "    database_name = \"gmb\"\n",
    "\n",
    "    create_bucket(bucket_name)\n",
    "    backup_database(database_name, bucket_name)"
   ]
  },
  {
   "cell_type": "code",
   "execution_count": 48,
   "id": "f9cc3466",
   "metadata": {},
   "outputs": [
    {
     "name": "stdout",
     "output_type": "stream",
     "text": [
      "Bucket created: None\n"
     ]
    },
    {
     "ename": "SyntaxError",
     "evalue": "syntax error at or near \"BACKUP\"\nLINE 1: BACKUP DATABASE my_database TO 'backup_db.sql';\n        ^\n",
     "output_type": "error",
     "traceback": [
      "\u001b[0;31m---------------------------------------------------------------------------\u001b[0m",
      "\u001b[0;31mSyntaxError\u001b[0m                               Traceback (most recent call last)",
      "Input \u001b[0;32mIn [48]\u001b[0m, in \u001b[0;36m<cell line: 1>\u001b[0;34m()\u001b[0m\n\u001b[1;32m      1\u001b[0m \u001b[38;5;28;01mif\u001b[39;00m \u001b[38;5;18m__name__\u001b[39m \u001b[38;5;241m==\u001b[39m \u001b[38;5;124m\"\u001b[39m\u001b[38;5;124m__main__\u001b[39m\u001b[38;5;124m\"\u001b[39m:\n\u001b[0;32m----> 2\u001b[0m     \u001b[43mmain\u001b[49m\u001b[43m(\u001b[49m\u001b[43m)\u001b[49m\n",
      "Input \u001b[0;32mIn [47]\u001b[0m, in \u001b[0;36mmain\u001b[0;34m()\u001b[0m\n\u001b[1;32m      5\u001b[0m database_name \u001b[38;5;241m=\u001b[39m \u001b[38;5;124m\"\u001b[39m\u001b[38;5;124mgmb\u001b[39m\u001b[38;5;124m\"\u001b[39m\n\u001b[1;32m      7\u001b[0m create_bucket(bucket_name)\n\u001b[0;32m----> 8\u001b[0m \u001b[43mbackup_database\u001b[49m\u001b[43m(\u001b[49m\u001b[43mdatabase_name\u001b[49m\u001b[43m,\u001b[49m\u001b[43m \u001b[49m\u001b[43mbucket_name\u001b[49m\u001b[43m)\u001b[49m\n",
      "Input \u001b[0;32mIn [46]\u001b[0m, in \u001b[0;36mbackup_database\u001b[0;34m(database_name, bucket_name)\u001b[0m\n\u001b[1;32m     17\u001b[0m \u001b[38;5;66;03m# Create a backup of the database.\u001b[39;00m\n\u001b[1;32m     18\u001b[0m cursor \u001b[38;5;241m=\u001b[39m conn\u001b[38;5;241m.\u001b[39mcursor()\n\u001b[0;32m---> 19\u001b[0m \u001b[43mcursor\u001b[49m\u001b[38;5;241;43m.\u001b[39;49m\u001b[43mexecute\u001b[49m\u001b[43m(\u001b[49m\n\u001b[1;32m     20\u001b[0m \u001b[43m    \u001b[49m\u001b[38;5;124;43mf\u001b[39;49m\u001b[38;5;124;43m\"\u001b[39;49m\u001b[38;5;124;43mBACKUP DATABASE my_database TO \u001b[39;49m\u001b[38;5;124;43m'\u001b[39;49m\u001b[38;5;124;43mbackup_db.sql\u001b[39;49m\u001b[38;5;124;43m'\u001b[39;49m\u001b[38;5;124;43m;\u001b[39;49m\u001b[38;5;124;43m\"\u001b[39;49m\n\u001b[1;32m     21\u001b[0m \u001b[43m\u001b[49m\u001b[43m)\u001b[49m\n\u001b[1;32m     22\u001b[0m conn\u001b[38;5;241m.\u001b[39mcommit()\n\u001b[1;32m     24\u001b[0m \u001b[38;5;66;03m# Upload the backup to the S3 bucket.\u001b[39;00m\n",
      "\u001b[0;31mSyntaxError\u001b[0m: syntax error at or near \"BACKUP\"\nLINE 1: BACKUP DATABASE my_database TO 'backup_db.sql';\n        ^\n"
     ]
    }
   ],
   "source": [
    "if __name__ == \"__main__\":\n",
    "    main()"
   ]
  },
  {
   "cell_type": "code",
   "execution_count": 43,
   "id": "f022c1b7",
   "metadata": {},
   "outputs": [
    {
     "data": {
      "text/plain": [
       "'/Users/ruddysimonpour/Desktop/GBM/ETL/gcloud_etl_pipeline'"
      ]
     },
     "execution_count": 43,
     "metadata": {},
     "output_type": "execute_result"
    }
   ],
   "source": [
    "os.getcwd()"
   ]
  },
  {
   "cell_type": "code",
   "execution_count": null,
   "id": "64b7688a",
   "metadata": {},
   "outputs": [],
   "source": []
  }
 ],
 "metadata": {
  "kernelspec": {
   "display_name": "Python 3 (ipykernel)",
   "language": "python",
   "name": "python3"
  },
  "language_info": {
   "codemirror_mode": {
    "name": "ipython",
    "version": 3
   },
   "file_extension": ".py",
   "mimetype": "text/x-python",
   "name": "python",
   "nbconvert_exporter": "python",
   "pygments_lexer": "ipython3",
   "version": "3.10.2"
  }
 },
 "nbformat": 4,
 "nbformat_minor": 5
}
