{
 "cells": [
  {
   "cell_type": "code",
   "execution_count": 15,
   "id": "620c7740",
   "metadata": {
    "scrolled": true
   },
   "outputs": [],
   "source": [
    "\n",
    "\n",
    "\n",
    "# import dependencies\n",
    "import pandas as pd\n",
    "import numpy as np\n",
    "import sys\n",
    "from datetime import datetime\n",
    "import getpass\n",
    "\n",
    "# # For MySQL\n",
    "#from sqlalchemy import create_engine\n",
    "#import pandas as pd\n",
    "#import pymysql\n",
    "\n",
    "# For PostgreSQL\n",
    "from sqlalchemy import create_engine\n",
    "import pandas as pd\n",
    "import psycopg2\n",
    "\n",
    "# # For SQL Server\n",
    "# from sqlalchemy import create_engine\n",
    "# import pandas as pd\n",
    "# import pyodbc"
   ]
  },
  {
   "cell_type": "code",
   "execution_count": 16,
   "id": "7c618798",
   "metadata": {
    "scrolled": true
   },
   "outputs": [
    {
     "name": "stdout",
     "output_type": "stream",
     "text": [
      "/Users/admin/.pyenv/versions/etl-env/bin/python\n"
     ]
    }
   ],
   "source": [
    "!which python"
   ]
  },
  {
   "cell_type": "code",
   "execution_count": null,
   "id": "9531f4c4",
   "metadata": {},
   "outputs": [
    {
     "name": "stdout",
     "output_type": "stream",
     "text": [
      "Requirement already satisfied: mysql-connector-python in /Users/admin/.pyenv/versions/3.11.0/envs/etl-env/lib/python3.11/site-packages (8.1.0)\n",
      "Requirement already satisfied: protobuf<=4.21.12,>=4.21.1 in /Users/admin/.pyenv/versions/3.11.0/envs/etl-env/lib/python3.11/site-packages (from mysql-connector-python) (4.21.12)\n",
      "Requirement already satisfied: google-cloud-storage in /Users/admin/.pyenv/versions/3.11.0/envs/etl-env/lib/python3.11/site-packages (2.10.0)\n",
      "Requirement already satisfied: google-auth<3.0dev,>=1.25.0 in /Users/admin/.pyenv/versions/3.11.0/envs/etl-env/lib/python3.11/site-packages (from google-cloud-storage) (2.22.0)\n",
      "Requirement already satisfied: google-api-core!=2.0.*,!=2.1.*,!=2.2.*,!=2.3.0,<3.0.0dev,>=1.31.5 in /Users/admin/.pyenv/versions/3.11.0/envs/etl-env/lib/python3.11/site-packages (from google-cloud-storage) (2.11.1)\n",
      "Requirement already satisfied: google-cloud-core<3.0dev,>=2.3.0 in /Users/admin/.pyenv/versions/3.11.0/envs/etl-env/lib/python3.11/site-packages (from google-cloud-storage) (2.3.3)\n",
      "Requirement already satisfied: google-resumable-media>=2.3.2 in /Users/admin/.pyenv/versions/3.11.0/envs/etl-env/lib/python3.11/site-packages (from google-cloud-storage) (2.5.0)\n",
      "Requirement already satisfied: requests<3.0.0dev,>=2.18.0 in /Users/admin/.pyenv/versions/3.11.0/envs/etl-env/lib/python3.11/site-packages (from google-cloud-storage) (2.31.0)\n",
      "Requirement already satisfied: googleapis-common-protos<2.0.dev0,>=1.56.2 in /Users/admin/.pyenv/versions/3.11.0/envs/etl-env/lib/python3.11/site-packages (from google-api-core!=2.0.*,!=2.1.*,!=2.2.*,!=2.3.0,<3.0.0dev,>=1.31.5->google-cloud-storage) (1.60.0)\n",
      "Requirement already satisfied: protobuf!=3.20.0,!=3.20.1,!=4.21.0,!=4.21.1,!=4.21.2,!=4.21.3,!=4.21.4,!=4.21.5,<5.0.0.dev0,>=3.19.5 in /Users/admin/.pyenv/versions/3.11.0/envs/etl-env/lib/python3.11/site-packages (from google-api-core!=2.0.*,!=2.1.*,!=2.2.*,!=2.3.0,<3.0.0dev,>=1.31.5->google-cloud-storage) (4.21.12)\n",
      "Requirement already satisfied: cachetools<6.0,>=2.0.0 in /Users/admin/.pyenv/versions/3.11.0/envs/etl-env/lib/python3.11/site-packages (from google-auth<3.0dev,>=1.25.0->google-cloud-storage) (5.3.1)\n",
      "Requirement already satisfied: pyasn1-modules>=0.2.1 in /Users/admin/.pyenv/versions/3.11.0/envs/etl-env/lib/python3.11/site-packages (from google-auth<3.0dev,>=1.25.0->google-cloud-storage) (0.3.0)\n",
      "Requirement already satisfied: rsa<5,>=3.1.4 in /Users/admin/.pyenv/versions/3.11.0/envs/etl-env/lib/python3.11/site-packages (from google-auth<3.0dev,>=1.25.0->google-cloud-storage) (4.9)\n",
      "Requirement already satisfied: six>=1.9.0 in /Users/admin/.pyenv/versions/3.11.0/envs/etl-env/lib/python3.11/site-packages (from google-auth<3.0dev,>=1.25.0->google-cloud-storage) (1.16.0)\n",
      "Requirement already satisfied: urllib3<2.0 in /Users/admin/.pyenv/versions/3.11.0/envs/etl-env/lib/python3.11/site-packages (from google-auth<3.0dev,>=1.25.0->google-cloud-storage) (1.26.16)\n",
      "Requirement already satisfied: google-crc32c<2.0dev,>=1.0 in /Users/admin/.pyenv/versions/3.11.0/envs/etl-env/lib/python3.11/site-packages (from google-resumable-media>=2.3.2->google-cloud-storage) (1.5.0)\n",
      "Requirement already satisfied: charset-normalizer<4,>=2 in /Users/admin/.pyenv/versions/3.11.0/envs/etl-env/lib/python3.11/site-packages (from requests<3.0.0dev,>=2.18.0->google-cloud-storage) (3.2.0)\n",
      "Requirement already satisfied: idna<4,>=2.5 in /Users/admin/.pyenv/versions/3.11.0/envs/etl-env/lib/python3.11/site-packages (from requests<3.0.0dev,>=2.18.0->google-cloud-storage) (3.4)\n",
      "Requirement already satisfied: certifi>=2017.4.17 in /Users/admin/.pyenv/versions/3.11.0/envs/etl-env/lib/python3.11/site-packages (from requests<3.0.0dev,>=2.18.0->google-cloud-storage) (2023.7.22)\n",
      "Requirement already satisfied: pyasn1<0.6.0,>=0.4.6 in /Users/admin/.pyenv/versions/3.11.0/envs/etl-env/lib/python3.11/site-packages (from pyasn1-modules>=0.2.1->google-auth<3.0dev,>=1.25.0->google-cloud-storage) (0.5.0)\n"
     ]
    }
   ],
   "source": [
    "!pip install mysql-connector-python\n",
    "! pip install google-cloud-storage \n",
    "username = getpass.getpass('Enter username:')\n",
    "password = getpass.getpass('Enter password:')\n",
    "public_ip_address = '35.239.201.185'\n",
    "db_name = 'gmb'\n",
    "test_db_name = 'gmb_test'\n",
    "\n",
    "# Set your GCS bucket configurations\n",
    "gcs_bucket_name = 'gmb-database-backup'\n",
    "gcs_backup_blob_name = 'backup.sql'\n",
    "# Path to store the temporary backup file\n",
    "TEMP_BACKUP_PATH = '/tmp/backup.sql'"
   ]
  },
  {
   "cell_type": "code",
   "execution_count": null,
   "id": "d6f6e962",
   "metadata": {},
   "outputs": [],
   "source": [
    "import psycopg2\n",
    "\n",
    "username = 'gmb'\n",
    "password = getpass.getpass('Enter password:')\n",
    "public_ip_address = '35.239.201.185'\n",
    "db_name = 'gmb'\n",
    "\n",
    "# Create a connection\n",
    "conn = psycopg2.connect(\n",
    "    dbname=db_name,\n",
    "    user=username,\n",
    "    password=password,\n",
    "    host=public_ip_address\n",
    ")\n",
    "\n",
    "# Create a cursor\n",
    "cur = conn.cursor()"
   ]
  },
  {
   "cell_type": "code",
   "execution_count": null,
   "id": "99e8cefd",
   "metadata": {},
   "outputs": [],
   "source": [
    "# Query to get all table names in the PostgreSQL database\n",
    "query = \"\"\"\n",
    "SELECT tablename \n",
    "FROM pg_catalog.pg_tables \n",
    "WHERE schemaname != 'pg_catalog' AND \n",
    "      schemaname != 'information_schema';\n",
    "\"\"\"\n",
    "\n",
    "# Execute the query\n",
    "cur.execute(query)"
   ]
  },
  {
   "cell_type": "code",
   "execution_count": null,
   "id": "fc5fa99b",
   "metadata": {},
   "outputs": [],
   "source": [
    "tables = cur.fetchall()\n",
    "\n",
    "# print the table names\n",
    "for table in tables:\n",
    "    print(table[0])  \n"
   ]
  },
  {
   "cell_type": "code",
   "execution_count": null,
   "id": "91154659",
   "metadata": {},
   "outputs": [],
   "source": []
  },
  {
   "cell_type": "code",
   "execution_count": null,
   "id": "8e3ee192-aed2-44df-8312-913ea5f23b1a",
   "metadata": {},
   "outputs": [],
   "source": []
  }
 ],
 "metadata": {
  "kernelspec": {
   "display_name": "Python 3 (ipykernel)",
   "language": "python",
   "name": "python3"
  },
  "language_info": {
   "codemirror_mode": {
    "name": "ipython",
    "version": 3
   },
   "file_extension": ".py",
   "mimetype": "text/x-python",
   "name": "python",
   "nbconvert_exporter": "python",
   "pygments_lexer": "ipython3",
   "version": "3.11.0"
  }
 },
 "nbformat": 4,
 "nbformat_minor": 5
}
