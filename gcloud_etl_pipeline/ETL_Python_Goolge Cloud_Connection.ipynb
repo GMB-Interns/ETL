{
 "cells": [
  {
   "cell_type": "code",
   "execution_count": 91,
   "id": "620c7740",
   "metadata": {},
   "outputs": [],
   "source": [
    "# import dependencies\n",
    "import pandas as pd\n",
    "import numpy as np\n",
    "import sys\n",
    "from datetime import datetime\n",
    "import getpass\n",
    "\n",
    "# # For MySQL\n",
    "# from sqlalchemy import create_engine\n",
    "# import pandas as pd\n",
    "# import pymysql\n",
    "\n",
    "# For PostgreSQL\n",
    "from sqlalchemy import create_engine\n",
    "import pandas as pd\n",
    "import psycopg2\n",
    "\n",
    "# # For SQL Server\n",
    "# from sqlalchemy import create_engine\n",
    "# import pandas as pd\n",
    "# import pyodbc"
   ]
  },
  {
   "cell_type": "code",
   "execution_count": 92,
   "id": "d6f6e962",
   "metadata": {},
   "outputs": [
    {
     "name": "stdout",
     "output_type": "stream",
     "text": [
      "Enter password:········\n"
     ]
    }
   ],
   "source": [
    "import psycopg2\n",
    "\n",
    "username = 'gmb'\n",
    "password = getpass.getpass('Enter password:')\n",
    "public_ip_address = '34.28.219.203'\n",
    "db_name = 'gmb'\n",
    "\n",
    "# Create a connection\n",
    "conn = psycopg2.connect(\n",
    "    dbname=db_name,\n",
    "    user=username,\n",
    "    password=password,\n",
    "    host=public_ip_address\n",
    ")\n",
    "\n",
    "# Create a cursor\n",
    "cur = conn.cursor()"
   ]
  },
  {
   "cell_type": "code",
   "execution_count": 118,
   "id": "99e8cefd",
   "metadata": {},
   "outputs": [],
   "source": [
    "# Query to get all table names in the PostgreSQL database\n",
    "query = \"\"\"\n",
    "SELECT tablename \n",
    "FROM pg_catalog.pg_tables \n",
    "WHERE schemaname != 'pg_catalog' AND \n",
    "      schemaname != 'information_schema';\n",
    "\"\"\"\n",
    "\n",
    "# Execute the query\n",
    "cur.execute(query)"
   ]
  },
  {
   "cell_type": "markdown",
   "id": "a858025e",
   "metadata": {},
   "source": [
    "# Anonymization"
   ]
  },
  {
   "cell_type": "code",
   "execution_count": 119,
   "id": "0fd976f5",
   "metadata": {},
   "outputs": [
    {
     "data": {
      "text/html": [
       "<div>\n",
       "<style scoped>\n",
       "    .dataframe tbody tr th:only-of-type {\n",
       "        vertical-align: middle;\n",
       "    }\n",
       "\n",
       "    .dataframe tbody tr th {\n",
       "        vertical-align: top;\n",
       "    }\n",
       "\n",
       "    .dataframe thead th {\n",
       "        text-align: right;\n",
       "    }\n",
       "</style>\n",
       "<table border=\"1\" class=\"dataframe\">\n",
       "  <thead>\n",
       "    <tr style=\"text-align: right;\">\n",
       "      <th></th>\n",
       "      <th>table_name</th>\n",
       "    </tr>\n",
       "  </thead>\n",
       "  <tbody>\n",
       "    <tr>\n",
       "      <th>0</th>\n",
       "      <td>billing_paymentcustomer</td>\n",
       "    </tr>\n",
       "    <tr>\n",
       "      <th>1</th>\n",
       "      <td>challenge_challengeinvite</td>\n",
       "    </tr>\n",
       "    <tr>\n",
       "      <th>2</th>\n",
       "      <td>group_groupinvite</td>\n",
       "    </tr>\n",
       "    <tr>\n",
       "      <th>3</th>\n",
       "      <td>matching_matchingsettings</td>\n",
       "    </tr>\n",
       "    <tr>\n",
       "      <th>4</th>\n",
       "      <td>member_user</td>\n",
       "    </tr>\n",
       "    <tr>\n",
       "      <th>5</th>\n",
       "      <td>social_auth_code</td>\n",
       "    </tr>\n",
       "  </tbody>\n",
       "</table>\n",
       "</div>"
      ],
      "text/plain": [
       "                  table_name\n",
       "0    billing_paymentcustomer\n",
       "1  challenge_challengeinvite\n",
       "2          group_groupinvite\n",
       "3  matching_matchingsettings\n",
       "4                member_user\n",
       "5           social_auth_code"
      ]
     },
     "execution_count": 119,
     "metadata": {},
     "output_type": "execute_result"
    }
   ],
   "source": [
    "query = \"\"\"\n",
    "\n",
    "SELECT distinct table_name\n",
    "        FROM information_schema.columns\n",
    "WHERE column_name = 'first_name' \n",
    "   OR column_name = 'last_name'\n",
    "   OR column_name = 'phone'\n",
    "   OR column_name = 'email'\n",
    "   OR column_name = 'zipcode'\n",
    "   OR column_name = 'password'\n",
    " \n",
    "\"\"\"\n",
    "sensitive_tables = pd.read_sql(query, conn)\n",
    "sensitive_tables"
   ]
  },
  {
   "cell_type": "code",
   "execution_count": 120,
   "id": "fc5fa99b",
   "metadata": {},
   "outputs": [
    {
     "name": "stderr",
     "output_type": "stream",
     "text": [
      "/Users/ruddysimonpour/opt/anaconda3/envs/pythonenv/lib/python3.10/site-packages/pandas/io/sql.py:761: UserWarning: pandas only support SQLAlchemy connectable(engine/connection) ordatabase string URI or sqlite3 DBAPI2 connectionother DBAPI2 objects are not tested, please consider using SQLAlchemy\n",
      "  warnings.warn(\n"
     ]
    }
   ],
   "source": [
    "# billing_paymentcustomer\n",
    "query_billing = \"select * from billing_paymentcustomer\"\n",
    "biling_paymentcustomer_df = pd.read_sql(query_billing, conn)"
   ]
  },
  {
   "cell_type": "code",
   "execution_count": 121,
   "id": "91154659",
   "metadata": {},
   "outputs": [],
   "source": [
    "biling_paymentcustomer_anonydf = billing_paymentcustomer_df.copy()\n",
    "\n",
    "biling_paymentcustomer_anonydf['first_name'] = biling_paymentcustomer_anonydf['id']\\\n",
    ".apply(lambda x: 'FirstUser{}'.format(x))\n",
    "\n",
    "biling_paymentcustomer_anonydf['last_name'] = biling_paymentcustomer_anonydf['id']\\\n",
    ".apply(lambda x: 'LastUser{}'.format(x))\n",
    "\n",
    "biling_paymentcustomer_anonydf['email'] = biling_paymentcustomer_anonydf['id']\\\n",
    ".apply(lambda x: 'user{}@example.com'.format(x))\n",
    "\n",
    "if 'phone' in biling_paymentcustomer_anonydf.columns:\n",
    "    biling_paymentcustomer_anonydf['phone'] = biling_paymentcustomer_anonydf['id']\\\n",
    "    .apply(lambda x: '123456{}'.format(x))\n",
    "    \n",
    "if 'created_from_ip' in biling_paymentcustomer_anonydf.columns:\n",
    "    biling_paymentcustomer_anonydf['created_from_ip'] = \"192.168.1.1\" \n",
    "    \n"
   ]
  },
  {
   "cell_type": "markdown",
   "id": "55b01b9a",
   "metadata": {},
   "source": [
    "**About anonymizing IP address:**\n",
    "\"192.168.1.1\" is a commonly used default IP address for many routers and home networking equipment. It falls within the range of IP addresses (192.168.0.0 to 192.168.255.255) reserved for private networks, meaning these addresses are not routable on the public internet and are often used for local network devices."
   ]
  },
  {
   "cell_type": "code",
   "execution_count": 123,
   "id": "b42e43b6",
   "metadata": {},
   "outputs": [],
   "source": [
    "db_url = f\"postgresql://{username}:{password}@{public_ip_address}/{db_name}\"\n",
    "\n",
    "# SQLAlchemy engine\n",
    "engine = create_engine(db_url)"
   ]
  },
  {
   "cell_type": "markdown",
   "id": "bfac3376",
   "metadata": {},
   "source": [
    "when using the `to_sql()` method in pandas, you need to provide an SQLAlchemy engine, not a psycopg2 connection. This is because pandas uses SQLAlchemy to handle SQL dialects."
   ]
  },
  {
   "cell_type": "code",
   "execution_count": 124,
   "id": "c6cc6473",
   "metadata": {},
   "outputs": [
    {
     "data": {
      "text/plain": [
       "590"
      ]
     },
     "execution_count": 124,
     "metadata": {},
     "output_type": "execute_result"
    }
   ],
   "source": [
    "biling_paymentcustomer_anonydf.to_sql('billing_paymentcustomer_anonymized', engine, if_exists='replace', index=False)\n"
   ]
  },
  {
   "cell_type": "code",
   "execution_count": null,
   "id": "2a28d69f",
   "metadata": {},
   "outputs": [],
   "source": []
  }
 ],
 "metadata": {
  "kernelspec": {
   "display_name": "Python 3 (ipykernel)",
   "language": "python",
   "name": "python3"
  },
  "language_info": {
   "codemirror_mode": {
    "name": "ipython",
    "version": 3
   },
   "file_extension": ".py",
   "mimetype": "text/x-python",
   "name": "python",
   "nbconvert_exporter": "python",
   "pygments_lexer": "ipython3",
   "version": "3.10.2"
  }
 },
 "nbformat": 4,
 "nbformat_minor": 5
}
